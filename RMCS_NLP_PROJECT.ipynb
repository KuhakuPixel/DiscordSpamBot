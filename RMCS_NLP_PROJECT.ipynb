{
  "cells": [
    {
      "cell_type": "code",
      "execution_count": 1,
      "id": "AI_mJOoRwJB8",
      "metadata": {
        "id": "AI_mJOoRwJB8"
      },
      "outputs": [],
      "source": [
        "import matplotlib.pyplot as plt\n",
        "import pandas as pd"
      ]
    },
    {
      "attachments": {},
      "cell_type": "markdown",
      "id": "429c0cc0",
      "metadata": {
        "id": "429c0cc0",
        "papermill": {
          "duration": 0.014819,
          "end_time": "2023-02-16T22:12:56.168812",
          "exception": false,
          "start_time": "2023-02-16T22:12:56.153993",
          "status": "completed"
        },
        "tags": []
      },
      "source": [
        "# 💾 Reading a text-based dataset into pandas"
      ]
    },
    {
      "cell_type": "code",
      "execution_count": 2,
      "id": "f29b534c",
      "metadata": {
        "colab": {
          "base_uri": "https://localhost:8080/",
          "height": 243
        },
        "execution": {
          "iopub.execute_input": "2023-02-16T22:12:56.201446Z",
          "iopub.status.busy": "2023-02-16T22:12:56.200671Z",
          "iopub.status.idle": "2023-02-16T22:12:56.283323Z",
          "shell.execute_reply": "2023-02-16T22:12:56.281887Z"
        },
        "id": "f29b534c",
        "outputId": "d2a774e2-7765-46d7-bc30-27c594f3c7b9",
        "papermill": {
          "duration": 0.101748,
          "end_time": "2023-02-16T22:12:56.285847",
          "exception": false,
          "start_time": "2023-02-16T22:12:56.184099",
          "status": "completed"
        },
        "tags": []
      },
      "outputs": [
        {
          "ename": "FileNotFoundError",
          "evalue": "[Errno 2] No such file or directory: './spam.csv'",
          "output_type": "error",
          "traceback": [
            "\u001b[0;31m---------------------------------------------------------------------------\u001b[0m",
            "\u001b[0;31mFileNotFoundError\u001b[0m                         Traceback (most recent call last)",
            "Cell \u001b[0;32mIn[2], line 2\u001b[0m\n\u001b[1;32m      1\u001b[0m \u001b[39m# read file into pandas using a relative path\u001b[39;00m\n\u001b[0;32m----> 2\u001b[0m sms_df \u001b[39m=\u001b[39m pd\u001b[39m.\u001b[39;49mread_csv(\u001b[39m\"\u001b[39;49m\u001b[39m./spam.csv\u001b[39;49m\u001b[39m\"\u001b[39;49m, encoding\u001b[39m=\u001b[39;49m\u001b[39m\"\u001b[39;49m\u001b[39mlatin-1\u001b[39;49m\u001b[39m\"\u001b[39;49m)\n\u001b[1;32m      3\u001b[0m sms_data_count \u001b[39m=\u001b[39m sms_df\u001b[39m.\u001b[39mshape[\u001b[39m0\u001b[39m]\n\u001b[1;32m      4\u001b[0m \u001b[39mprint\u001b[39m(\u001b[39mf\u001b[39m\u001b[39m\"\u001b[39m\u001b[39msms data count: \u001b[39m\u001b[39m{\u001b[39;00msms_data_count\u001b[39m}\u001b[39;00m\u001b[39m\"\u001b[39m)\n",
            "File \u001b[0;32m~/.local/lib/python3.10/site-packages/pandas/util/_decorators.py:211\u001b[0m, in \u001b[0;36mdeprecate_kwarg.<locals>._deprecate_kwarg.<locals>.wrapper\u001b[0;34m(*args, **kwargs)\u001b[0m\n\u001b[1;32m    209\u001b[0m     \u001b[39melse\u001b[39;00m:\n\u001b[1;32m    210\u001b[0m         kwargs[new_arg_name] \u001b[39m=\u001b[39m new_arg_value\n\u001b[0;32m--> 211\u001b[0m \u001b[39mreturn\u001b[39;00m func(\u001b[39m*\u001b[39;49margs, \u001b[39m*\u001b[39;49m\u001b[39m*\u001b[39;49mkwargs)\n",
            "File \u001b[0;32m~/.local/lib/python3.10/site-packages/pandas/util/_decorators.py:331\u001b[0m, in \u001b[0;36mdeprecate_nonkeyword_arguments.<locals>.decorate.<locals>.wrapper\u001b[0;34m(*args, **kwargs)\u001b[0m\n\u001b[1;32m    325\u001b[0m \u001b[39mif\u001b[39;00m \u001b[39mlen\u001b[39m(args) \u001b[39m>\u001b[39m num_allow_args:\n\u001b[1;32m    326\u001b[0m     warnings\u001b[39m.\u001b[39mwarn(\n\u001b[1;32m    327\u001b[0m         msg\u001b[39m.\u001b[39mformat(arguments\u001b[39m=\u001b[39m_format_argument_list(allow_args)),\n\u001b[1;32m    328\u001b[0m         \u001b[39mFutureWarning\u001b[39;00m,\n\u001b[1;32m    329\u001b[0m         stacklevel\u001b[39m=\u001b[39mfind_stack_level(),\n\u001b[1;32m    330\u001b[0m     )\n\u001b[0;32m--> 331\u001b[0m \u001b[39mreturn\u001b[39;00m func(\u001b[39m*\u001b[39;49margs, \u001b[39m*\u001b[39;49m\u001b[39m*\u001b[39;49mkwargs)\n",
            "File \u001b[0;32m~/.local/lib/python3.10/site-packages/pandas/io/parsers/readers.py:950\u001b[0m, in \u001b[0;36mread_csv\u001b[0;34m(filepath_or_buffer, sep, delimiter, header, names, index_col, usecols, squeeze, prefix, mangle_dupe_cols, dtype, engine, converters, true_values, false_values, skipinitialspace, skiprows, skipfooter, nrows, na_values, keep_default_na, na_filter, verbose, skip_blank_lines, parse_dates, infer_datetime_format, keep_date_col, date_parser, dayfirst, cache_dates, iterator, chunksize, compression, thousands, decimal, lineterminator, quotechar, quoting, doublequote, escapechar, comment, encoding, encoding_errors, dialect, error_bad_lines, warn_bad_lines, on_bad_lines, delim_whitespace, low_memory, memory_map, float_precision, storage_options)\u001b[0m\n\u001b[1;32m    935\u001b[0m kwds_defaults \u001b[39m=\u001b[39m _refine_defaults_read(\n\u001b[1;32m    936\u001b[0m     dialect,\n\u001b[1;32m    937\u001b[0m     delimiter,\n\u001b[0;32m   (...)\u001b[0m\n\u001b[1;32m    946\u001b[0m     defaults\u001b[39m=\u001b[39m{\u001b[39m\"\u001b[39m\u001b[39mdelimiter\u001b[39m\u001b[39m\"\u001b[39m: \u001b[39m\"\u001b[39m\u001b[39m,\u001b[39m\u001b[39m\"\u001b[39m},\n\u001b[1;32m    947\u001b[0m )\n\u001b[1;32m    948\u001b[0m kwds\u001b[39m.\u001b[39mupdate(kwds_defaults)\n\u001b[0;32m--> 950\u001b[0m \u001b[39mreturn\u001b[39;00m _read(filepath_or_buffer, kwds)\n",
            "File \u001b[0;32m~/.local/lib/python3.10/site-packages/pandas/io/parsers/readers.py:605\u001b[0m, in \u001b[0;36m_read\u001b[0;34m(filepath_or_buffer, kwds)\u001b[0m\n\u001b[1;32m    602\u001b[0m _validate_names(kwds\u001b[39m.\u001b[39mget(\u001b[39m\"\u001b[39m\u001b[39mnames\u001b[39m\u001b[39m\"\u001b[39m, \u001b[39mNone\u001b[39;00m))\n\u001b[1;32m    604\u001b[0m \u001b[39m# Create the parser.\u001b[39;00m\n\u001b[0;32m--> 605\u001b[0m parser \u001b[39m=\u001b[39m TextFileReader(filepath_or_buffer, \u001b[39m*\u001b[39;49m\u001b[39m*\u001b[39;49mkwds)\n\u001b[1;32m    607\u001b[0m \u001b[39mif\u001b[39;00m chunksize \u001b[39mor\u001b[39;00m iterator:\n\u001b[1;32m    608\u001b[0m     \u001b[39mreturn\u001b[39;00m parser\n",
            "File \u001b[0;32m~/.local/lib/python3.10/site-packages/pandas/io/parsers/readers.py:1442\u001b[0m, in \u001b[0;36mTextFileReader.__init__\u001b[0;34m(self, f, engine, **kwds)\u001b[0m\n\u001b[1;32m   1439\u001b[0m     \u001b[39mself\u001b[39m\u001b[39m.\u001b[39moptions[\u001b[39m\"\u001b[39m\u001b[39mhas_index_names\u001b[39m\u001b[39m\"\u001b[39m] \u001b[39m=\u001b[39m kwds[\u001b[39m\"\u001b[39m\u001b[39mhas_index_names\u001b[39m\u001b[39m\"\u001b[39m]\n\u001b[1;32m   1441\u001b[0m \u001b[39mself\u001b[39m\u001b[39m.\u001b[39mhandles: IOHandles \u001b[39m|\u001b[39m \u001b[39mNone\u001b[39;00m \u001b[39m=\u001b[39m \u001b[39mNone\u001b[39;00m\n\u001b[0;32m-> 1442\u001b[0m \u001b[39mself\u001b[39m\u001b[39m.\u001b[39m_engine \u001b[39m=\u001b[39m \u001b[39mself\u001b[39;49m\u001b[39m.\u001b[39;49m_make_engine(f, \u001b[39mself\u001b[39;49m\u001b[39m.\u001b[39;49mengine)\n",
            "File \u001b[0;32m~/.local/lib/python3.10/site-packages/pandas/io/parsers/readers.py:1735\u001b[0m, in \u001b[0;36mTextFileReader._make_engine\u001b[0;34m(self, f, engine)\u001b[0m\n\u001b[1;32m   1733\u001b[0m     \u001b[39mif\u001b[39;00m \u001b[39m\"\u001b[39m\u001b[39mb\u001b[39m\u001b[39m\"\u001b[39m \u001b[39mnot\u001b[39;00m \u001b[39min\u001b[39;00m mode:\n\u001b[1;32m   1734\u001b[0m         mode \u001b[39m+\u001b[39m\u001b[39m=\u001b[39m \u001b[39m\"\u001b[39m\u001b[39mb\u001b[39m\u001b[39m\"\u001b[39m\n\u001b[0;32m-> 1735\u001b[0m \u001b[39mself\u001b[39m\u001b[39m.\u001b[39mhandles \u001b[39m=\u001b[39m get_handle(\n\u001b[1;32m   1736\u001b[0m     f,\n\u001b[1;32m   1737\u001b[0m     mode,\n\u001b[1;32m   1738\u001b[0m     encoding\u001b[39m=\u001b[39;49m\u001b[39mself\u001b[39;49m\u001b[39m.\u001b[39;49moptions\u001b[39m.\u001b[39;49mget(\u001b[39m\"\u001b[39;49m\u001b[39mencoding\u001b[39;49m\u001b[39m\"\u001b[39;49m, \u001b[39mNone\u001b[39;49;00m),\n\u001b[1;32m   1739\u001b[0m     compression\u001b[39m=\u001b[39;49m\u001b[39mself\u001b[39;49m\u001b[39m.\u001b[39;49moptions\u001b[39m.\u001b[39;49mget(\u001b[39m\"\u001b[39;49m\u001b[39mcompression\u001b[39;49m\u001b[39m\"\u001b[39;49m, \u001b[39mNone\u001b[39;49;00m),\n\u001b[1;32m   1740\u001b[0m     memory_map\u001b[39m=\u001b[39;49m\u001b[39mself\u001b[39;49m\u001b[39m.\u001b[39;49moptions\u001b[39m.\u001b[39;49mget(\u001b[39m\"\u001b[39;49m\u001b[39mmemory_map\u001b[39;49m\u001b[39m\"\u001b[39;49m, \u001b[39mFalse\u001b[39;49;00m),\n\u001b[1;32m   1741\u001b[0m     is_text\u001b[39m=\u001b[39;49mis_text,\n\u001b[1;32m   1742\u001b[0m     errors\u001b[39m=\u001b[39;49m\u001b[39mself\u001b[39;49m\u001b[39m.\u001b[39;49moptions\u001b[39m.\u001b[39;49mget(\u001b[39m\"\u001b[39;49m\u001b[39mencoding_errors\u001b[39;49m\u001b[39m\"\u001b[39;49m, \u001b[39m\"\u001b[39;49m\u001b[39mstrict\u001b[39;49m\u001b[39m\"\u001b[39;49m),\n\u001b[1;32m   1743\u001b[0m     storage_options\u001b[39m=\u001b[39;49m\u001b[39mself\u001b[39;49m\u001b[39m.\u001b[39;49moptions\u001b[39m.\u001b[39;49mget(\u001b[39m\"\u001b[39;49m\u001b[39mstorage_options\u001b[39;49m\u001b[39m\"\u001b[39;49m, \u001b[39mNone\u001b[39;49;00m),\n\u001b[1;32m   1744\u001b[0m )\n\u001b[1;32m   1745\u001b[0m \u001b[39massert\u001b[39;00m \u001b[39mself\u001b[39m\u001b[39m.\u001b[39mhandles \u001b[39mis\u001b[39;00m \u001b[39mnot\u001b[39;00m \u001b[39mNone\u001b[39;00m\n\u001b[1;32m   1746\u001b[0m f \u001b[39m=\u001b[39m \u001b[39mself\u001b[39m\u001b[39m.\u001b[39mhandles\u001b[39m.\u001b[39mhandle\n",
            "File \u001b[0;32m~/.local/lib/python3.10/site-packages/pandas/io/common.py:856\u001b[0m, in \u001b[0;36mget_handle\u001b[0;34m(path_or_buf, mode, encoding, compression, memory_map, is_text, errors, storage_options)\u001b[0m\n\u001b[1;32m    851\u001b[0m \u001b[39melif\u001b[39;00m \u001b[39misinstance\u001b[39m(handle, \u001b[39mstr\u001b[39m):\n\u001b[1;32m    852\u001b[0m     \u001b[39m# Check whether the filename is to be opened in binary mode.\u001b[39;00m\n\u001b[1;32m    853\u001b[0m     \u001b[39m# Binary mode does not support 'encoding' and 'newline'.\u001b[39;00m\n\u001b[1;32m    854\u001b[0m     \u001b[39mif\u001b[39;00m ioargs\u001b[39m.\u001b[39mencoding \u001b[39mand\u001b[39;00m \u001b[39m\"\u001b[39m\u001b[39mb\u001b[39m\u001b[39m\"\u001b[39m \u001b[39mnot\u001b[39;00m \u001b[39min\u001b[39;00m ioargs\u001b[39m.\u001b[39mmode:\n\u001b[1;32m    855\u001b[0m         \u001b[39m# Encoding\u001b[39;00m\n\u001b[0;32m--> 856\u001b[0m         handle \u001b[39m=\u001b[39m \u001b[39mopen\u001b[39;49m(\n\u001b[1;32m    857\u001b[0m             handle,\n\u001b[1;32m    858\u001b[0m             ioargs\u001b[39m.\u001b[39;49mmode,\n\u001b[1;32m    859\u001b[0m             encoding\u001b[39m=\u001b[39;49mioargs\u001b[39m.\u001b[39;49mencoding,\n\u001b[1;32m    860\u001b[0m             errors\u001b[39m=\u001b[39;49merrors,\n\u001b[1;32m    861\u001b[0m             newline\u001b[39m=\u001b[39;49m\u001b[39m\"\u001b[39;49m\u001b[39m\"\u001b[39;49m,\n\u001b[1;32m    862\u001b[0m         )\n\u001b[1;32m    863\u001b[0m     \u001b[39melse\u001b[39;00m:\n\u001b[1;32m    864\u001b[0m         \u001b[39m# Binary mode\u001b[39;00m\n\u001b[1;32m    865\u001b[0m         handle \u001b[39m=\u001b[39m \u001b[39mopen\u001b[39m(handle, ioargs\u001b[39m.\u001b[39mmode)\n",
            "\u001b[0;31mFileNotFoundError\u001b[0m: [Errno 2] No such file or directory: './spam.csv'"
          ]
        }
      ],
      "source": [
        "# read file into pandas using a relative path\n",
        "sms_df = pd.read_csv(\"./spam.csv\", encoding=\"latin-1\")\n",
        "sms_data_count = sms_df.shape[0]\n",
        "print(f\"sms data count: {sms_data_count}\")\n",
        "discord_df = pd.read_csv(\"./discord.csv\", encoding=\"latin-1\", sep = \";\")\n",
        "discord_data_count = discord_df.shape[0]\n",
        "print(f\"discord data count: {discord_data_count}\")\n",
        "discord_df.head()"
      ]
    },
    {
      "cell_type": "code",
      "execution_count": null,
      "id": "jR9DhCOW0dn5",
      "metadata": {
        "id": "jR9DhCOW0dn5"
      },
      "outputs": [],
      "source": [
        "\n",
        "df = pd.concat([sms_df, discord_df])"
      ]
    },
    {
      "attachments": {},
      "cell_type": "markdown",
      "id": "UWn_phfPx3Bt",
      "metadata": {
        "id": "UWn_phfPx3Bt"
      },
      "source": []
    },
    {
      "cell_type": "code",
      "execution_count": null,
      "id": "qBZM-Besw8Ue",
      "metadata": {
        "colab": {
          "base_uri": "https://localhost:8080/"
        },
        "id": "qBZM-Besw8Ue",
        "outputId": "8295dd3c-ecc1-4fdd-d718-c881120e263f"
      },
      "outputs": [
        {
          "name": "stdout",
          "output_type": "stream",
          "text": [
            "Row count before clean: 5876\n",
            "Row count after clean: 5876\n"
          ]
        }
      ],
      "source": [
        "print(f\"Row count before clean: {df.shape[0]}\")\n",
        "df = df.dropna(how=\"any\", axis=1)\n",
        "print(f\"Row count after clean: {df.shape[0]}\")"
      ]
    },
    {
      "cell_type": "code",
      "execution_count": null,
      "id": "ksVR1qTD0XRx",
      "metadata": {
        "colab": {
          "base_uri": "https://localhost:8080/",
          "height": 206
        },
        "id": "ksVR1qTD0XRx",
        "outputId": "0a3ee8e8-a1be-43e2-b87d-417c2eac332c"
      },
      "outputs": [
        {
          "data": {
            "text/html": [
              "\n",
              "  <div id=\"df-59fc56c8-91a7-4307-922f-faac22bd6058\">\n",
              "    <div class=\"colab-df-container\">\n",
              "      <div>\n",
              "<style scoped>\n",
              "    .dataframe tbody tr th:only-of-type {\n",
              "        vertical-align: middle;\n",
              "    }\n",
              "\n",
              "    .dataframe tbody tr th {\n",
              "        vertical-align: top;\n",
              "    }\n",
              "\n",
              "    .dataframe thead th {\n",
              "        text-align: right;\n",
              "    }\n",
              "</style>\n",
              "<table border=\"1\" class=\"dataframe\">\n",
              "  <thead>\n",
              "    <tr style=\"text-align: right;\">\n",
              "      <th></th>\n",
              "      <th>v1</th>\n",
              "      <th>v2</th>\n",
              "    </tr>\n",
              "  </thead>\n",
              "  <tbody>\n",
              "    <tr>\n",
              "      <th>0</th>\n",
              "      <td>ham</td>\n",
              "      <td>Go until jurong point, crazy.. Available only ...</td>\n",
              "    </tr>\n",
              "    <tr>\n",
              "      <th>1</th>\n",
              "      <td>ham</td>\n",
              "      <td>Ok lar... Joking wif u oni...</td>\n",
              "    </tr>\n",
              "    <tr>\n",
              "      <th>2</th>\n",
              "      <td>spam</td>\n",
              "      <td>Free entry in 2 a wkly comp to win FA Cup fina...</td>\n",
              "    </tr>\n",
              "    <tr>\n",
              "      <th>3</th>\n",
              "      <td>ham</td>\n",
              "      <td>U dun say so early hor... U c already then say...</td>\n",
              "    </tr>\n",
              "    <tr>\n",
              "      <th>4</th>\n",
              "      <td>ham</td>\n",
              "      <td>Nah I don't think he goes to usf, he lives aro...</td>\n",
              "    </tr>\n",
              "  </tbody>\n",
              "</table>\n",
              "</div>\n",
              "      <button class=\"colab-df-convert\" onclick=\"convertToInteractive('df-59fc56c8-91a7-4307-922f-faac22bd6058')\"\n",
              "              title=\"Convert this dataframe to an interactive table.\"\n",
              "              style=\"display:none;\">\n",
              "        \n",
              "  <svg xmlns=\"http://www.w3.org/2000/svg\" height=\"24px\"viewBox=\"0 0 24 24\"\n",
              "       width=\"24px\">\n",
              "    <path d=\"M0 0h24v24H0V0z\" fill=\"none\"/>\n",
              "    <path d=\"M18.56 5.44l.94 2.06.94-2.06 2.06-.94-2.06-.94-.94-2.06-.94 2.06-2.06.94zm-11 1L8.5 8.5l.94-2.06 2.06-.94-2.06-.94L8.5 2.5l-.94 2.06-2.06.94zm10 10l.94 2.06.94-2.06 2.06-.94-2.06-.94-.94-2.06-.94 2.06-2.06.94z\"/><path d=\"M17.41 7.96l-1.37-1.37c-.4-.4-.92-.59-1.43-.59-.52 0-1.04.2-1.43.59L10.3 9.45l-7.72 7.72c-.78.78-.78 2.05 0 2.83L4 21.41c.39.39.9.59 1.41.59.51 0 1.02-.2 1.41-.59l7.78-7.78 2.81-2.81c.8-.78.8-2.07 0-2.86zM5.41 20L4 18.59l7.72-7.72 1.47 1.35L5.41 20z\"/>\n",
              "  </svg>\n",
              "      </button>\n",
              "      \n",
              "  <style>\n",
              "    .colab-df-container {\n",
              "      display:flex;\n",
              "      flex-wrap:wrap;\n",
              "      gap: 12px;\n",
              "    }\n",
              "\n",
              "    .colab-df-convert {\n",
              "      background-color: #E8F0FE;\n",
              "      border: none;\n",
              "      border-radius: 50%;\n",
              "      cursor: pointer;\n",
              "      display: none;\n",
              "      fill: #1967D2;\n",
              "      height: 32px;\n",
              "      padding: 0 0 0 0;\n",
              "      width: 32px;\n",
              "    }\n",
              "\n",
              "    .colab-df-convert:hover {\n",
              "      background-color: #E2EBFA;\n",
              "      box-shadow: 0px 1px 2px rgba(60, 64, 67, 0.3), 0px 1px 3px 1px rgba(60, 64, 67, 0.15);\n",
              "      fill: #174EA6;\n",
              "    }\n",
              "\n",
              "    [theme=dark] .colab-df-convert {\n",
              "      background-color: #3B4455;\n",
              "      fill: #D2E3FC;\n",
              "    }\n",
              "\n",
              "    [theme=dark] .colab-df-convert:hover {\n",
              "      background-color: #434B5C;\n",
              "      box-shadow: 0px 1px 3px 1px rgba(0, 0, 0, 0.15);\n",
              "      filter: drop-shadow(0px 1px 2px rgba(0, 0, 0, 0.3));\n",
              "      fill: #FFFFFF;\n",
              "    }\n",
              "  </style>\n",
              "\n",
              "      <script>\n",
              "        const buttonEl =\n",
              "          document.querySelector('#df-59fc56c8-91a7-4307-922f-faac22bd6058 button.colab-df-convert');\n",
              "        buttonEl.style.display =\n",
              "          google.colab.kernel.accessAllowed ? 'block' : 'none';\n",
              "\n",
              "        async function convertToInteractive(key) {\n",
              "          const element = document.querySelector('#df-59fc56c8-91a7-4307-922f-faac22bd6058');\n",
              "          const dataTable =\n",
              "            await google.colab.kernel.invokeFunction('convertToInteractive',\n",
              "                                                     [key], {});\n",
              "          if (!dataTable) return;\n",
              "\n",
              "          const docLinkHtml = 'Like what you see? Visit the ' +\n",
              "            '<a target=\"_blank\" href=https://colab.research.google.com/notebooks/data_table.ipynb>data table notebook</a>'\n",
              "            + ' to learn more about interactive tables.';\n",
              "          element.innerHTML = '';\n",
              "          dataTable['output_type'] = 'display_data';\n",
              "          await google.colab.output.renderOutput(dataTable, element);\n",
              "          const docLink = document.createElement('div');\n",
              "          docLink.innerHTML = docLinkHtml;\n",
              "          element.appendChild(docLink);\n",
              "        }\n",
              "      </script>\n",
              "    </div>\n",
              "  </div>\n",
              "  "
            ],
            "text/plain": [
              "     v1                                                 v2\n",
              "0   ham  Go until jurong point, crazy.. Available only ...\n",
              "1   ham                      Ok lar... Joking wif u oni...\n",
              "2  spam  Free entry in 2 a wkly comp to win FA Cup fina...\n",
              "3   ham  U dun say so early hor... U c already then say...\n",
              "4   ham  Nah I don't think he goes to usf, he lives aro..."
            ]
          },
          "execution_count": 281,
          "metadata": {},
          "output_type": "execute_result"
        }
      ],
      "source": [
        "df.head()"
      ]
    },
    {
      "cell_type": "code",
      "execution_count": null,
      "id": "uQt3nzEBwlRG",
      "metadata": {
        "colab": {
          "base_uri": "https://localhost:8080/",
          "height": 206
        },
        "id": "uQt3nzEBwlRG",
        "outputId": "db8dc884-9ba6-413e-832b-c444a6319170"
      },
      "outputs": [
        {
          "data": {
            "text/html": [
              "\n",
              "  <div id=\"df-9d8cf11f-2758-4883-9ebb-30ddcad07b71\">\n",
              "    <div class=\"colab-df-container\">\n",
              "      <div>\n",
              "<style scoped>\n",
              "    .dataframe tbody tr th:only-of-type {\n",
              "        vertical-align: middle;\n",
              "    }\n",
              "\n",
              "    .dataframe tbody tr th {\n",
              "        vertical-align: top;\n",
              "    }\n",
              "\n",
              "    .dataframe thead th {\n",
              "        text-align: right;\n",
              "    }\n",
              "</style>\n",
              "<table border=\"1\" class=\"dataframe\">\n",
              "  <thead>\n",
              "    <tr style=\"text-align: right;\">\n",
              "      <th></th>\n",
              "      <th>label</th>\n",
              "      <th>message</th>\n",
              "    </tr>\n",
              "  </thead>\n",
              "  <tbody>\n",
              "    <tr>\n",
              "      <th>0</th>\n",
              "      <td>ham</td>\n",
              "      <td>Go until jurong point, crazy.. Available only ...</td>\n",
              "    </tr>\n",
              "    <tr>\n",
              "      <th>1</th>\n",
              "      <td>ham</td>\n",
              "      <td>Ok lar... Joking wif u oni...</td>\n",
              "    </tr>\n",
              "    <tr>\n",
              "      <th>2</th>\n",
              "      <td>spam</td>\n",
              "      <td>Free entry in 2 a wkly comp to win FA Cup fina...</td>\n",
              "    </tr>\n",
              "    <tr>\n",
              "      <th>3</th>\n",
              "      <td>ham</td>\n",
              "      <td>U dun say so early hor... U c already then say...</td>\n",
              "    </tr>\n",
              "    <tr>\n",
              "      <th>4</th>\n",
              "      <td>ham</td>\n",
              "      <td>Nah I don't think he goes to usf, he lives aro...</td>\n",
              "    </tr>\n",
              "  </tbody>\n",
              "</table>\n",
              "</div>\n",
              "      <button class=\"colab-df-convert\" onclick=\"convertToInteractive('df-9d8cf11f-2758-4883-9ebb-30ddcad07b71')\"\n",
              "              title=\"Convert this dataframe to an interactive table.\"\n",
              "              style=\"display:none;\">\n",
              "        \n",
              "  <svg xmlns=\"http://www.w3.org/2000/svg\" height=\"24px\"viewBox=\"0 0 24 24\"\n",
              "       width=\"24px\">\n",
              "    <path d=\"M0 0h24v24H0V0z\" fill=\"none\"/>\n",
              "    <path d=\"M18.56 5.44l.94 2.06.94-2.06 2.06-.94-2.06-.94-.94-2.06-.94 2.06-2.06.94zm-11 1L8.5 8.5l.94-2.06 2.06-.94-2.06-.94L8.5 2.5l-.94 2.06-2.06.94zm10 10l.94 2.06.94-2.06 2.06-.94-2.06-.94-.94-2.06-.94 2.06-2.06.94z\"/><path d=\"M17.41 7.96l-1.37-1.37c-.4-.4-.92-.59-1.43-.59-.52 0-1.04.2-1.43.59L10.3 9.45l-7.72 7.72c-.78.78-.78 2.05 0 2.83L4 21.41c.39.39.9.59 1.41.59.51 0 1.02-.2 1.41-.59l7.78-7.78 2.81-2.81c.8-.78.8-2.07 0-2.86zM5.41 20L4 18.59l7.72-7.72 1.47 1.35L5.41 20z\"/>\n",
              "  </svg>\n",
              "      </button>\n",
              "      \n",
              "  <style>\n",
              "    .colab-df-container {\n",
              "      display:flex;\n",
              "      flex-wrap:wrap;\n",
              "      gap: 12px;\n",
              "    }\n",
              "\n",
              "    .colab-df-convert {\n",
              "      background-color: #E8F0FE;\n",
              "      border: none;\n",
              "      border-radius: 50%;\n",
              "      cursor: pointer;\n",
              "      display: none;\n",
              "      fill: #1967D2;\n",
              "      height: 32px;\n",
              "      padding: 0 0 0 0;\n",
              "      width: 32px;\n",
              "    }\n",
              "\n",
              "    .colab-df-convert:hover {\n",
              "      background-color: #E2EBFA;\n",
              "      box-shadow: 0px 1px 2px rgba(60, 64, 67, 0.3), 0px 1px 3px 1px rgba(60, 64, 67, 0.15);\n",
              "      fill: #174EA6;\n",
              "    }\n",
              "\n",
              "    [theme=dark] .colab-df-convert {\n",
              "      background-color: #3B4455;\n",
              "      fill: #D2E3FC;\n",
              "    }\n",
              "\n",
              "    [theme=dark] .colab-df-convert:hover {\n",
              "      background-color: #434B5C;\n",
              "      box-shadow: 0px 1px 3px 1px rgba(0, 0, 0, 0.15);\n",
              "      filter: drop-shadow(0px 1px 2px rgba(0, 0, 0, 0.3));\n",
              "      fill: #FFFFFF;\n",
              "    }\n",
              "  </style>\n",
              "\n",
              "      <script>\n",
              "        const buttonEl =\n",
              "          document.querySelector('#df-9d8cf11f-2758-4883-9ebb-30ddcad07b71 button.colab-df-convert');\n",
              "        buttonEl.style.display =\n",
              "          google.colab.kernel.accessAllowed ? 'block' : 'none';\n",
              "\n",
              "        async function convertToInteractive(key) {\n",
              "          const element = document.querySelector('#df-9d8cf11f-2758-4883-9ebb-30ddcad07b71');\n",
              "          const dataTable =\n",
              "            await google.colab.kernel.invokeFunction('convertToInteractive',\n",
              "                                                     [key], {});\n",
              "          if (!dataTable) return;\n",
              "\n",
              "          const docLinkHtml = 'Like what you see? Visit the ' +\n",
              "            '<a target=\"_blank\" href=https://colab.research.google.com/notebooks/data_table.ipynb>data table notebook</a>'\n",
              "            + ' to learn more about interactive tables.';\n",
              "          element.innerHTML = '';\n",
              "          dataTable['output_type'] = 'display_data';\n",
              "          await google.colab.output.renderOutput(dataTable, element);\n",
              "          const docLink = document.createElement('div');\n",
              "          docLink.innerHTML = docLinkHtml;\n",
              "          element.appendChild(docLink);\n",
              "        }\n",
              "      </script>\n",
              "    </div>\n",
              "  </div>\n",
              "  "
            ],
            "text/plain": [
              "  label                                            message\n",
              "0   ham  Go until jurong point, crazy.. Available only ...\n",
              "1   ham                      Ok lar... Joking wif u oni...\n",
              "2  spam  Free entry in 2 a wkly comp to win FA Cup fina...\n",
              "3   ham  U dun say so early hor... U c already then say...\n",
              "4   ham  Nah I don't think he goes to usf, he lives aro..."
            ]
          },
          "execution_count": 282,
          "metadata": {},
          "output_type": "execute_result"
        }
      ],
      "source": [
        "\n",
        "df.columns = [\"label\", \"message\"]\n",
        "\n",
        "df.head()"
      ]
    },
    {
      "attachments": {},
      "cell_type": "markdown",
      "id": "22f64c11",
      "metadata": {
        "id": "22f64c11",
        "papermill": {
          "duration": 0.015165,
          "end_time": "2023-02-16T22:12:56.316965",
          "exception": false,
          "start_time": "2023-02-16T22:12:56.301800",
          "status": "completed"
        },
        "tags": []
      },
      "source": [
        "# 🔍 Exploratory Data Analysis (EDA)"
      ]
    },
    {
      "cell_type": "code",
      "execution_count": null,
      "id": "38bd6c6c",
      "metadata": {
        "colab": {
          "base_uri": "https://localhost:8080/",
          "height": 175
        },
        "execution": {
          "iopub.execute_input": "2023-02-16T22:12:56.350637Z",
          "iopub.status.busy": "2023-02-16T22:12:56.349766Z",
          "iopub.status.idle": "2023-02-16T22:12:56.377447Z",
          "shell.execute_reply": "2023-02-16T22:12:56.376132Z"
        },
        "id": "38bd6c6c",
        "outputId": "9c11d033-340a-470a-d4e0-9c70d085a0d5",
        "papermill": {
          "duration": 0.047608,
          "end_time": "2023-02-16T22:12:56.380137",
          "exception": false,
          "start_time": "2023-02-16T22:12:56.332529",
          "status": "completed"
        },
        "tags": []
      },
      "outputs": [
        {
          "data": {
            "text/html": [
              "\n",
              "  <div id=\"df-b11593e2-7902-4e25-ba21-5e3bf9e8d284\">\n",
              "    <div class=\"colab-df-container\">\n",
              "      <div>\n",
              "<style scoped>\n",
              "    .dataframe tbody tr th:only-of-type {\n",
              "        vertical-align: middle;\n",
              "    }\n",
              "\n",
              "    .dataframe tbody tr th {\n",
              "        vertical-align: top;\n",
              "    }\n",
              "\n",
              "    .dataframe thead th {\n",
              "        text-align: right;\n",
              "    }\n",
              "</style>\n",
              "<table border=\"1\" class=\"dataframe\">\n",
              "  <thead>\n",
              "    <tr style=\"text-align: right;\">\n",
              "      <th></th>\n",
              "      <th>label</th>\n",
              "      <th>message</th>\n",
              "    </tr>\n",
              "  </thead>\n",
              "  <tbody>\n",
              "    <tr>\n",
              "      <th>count</th>\n",
              "      <td>5876</td>\n",
              "      <td>5876</td>\n",
              "    </tr>\n",
              "    <tr>\n",
              "      <th>unique</th>\n",
              "      <td>2</td>\n",
              "      <td>5436</td>\n",
              "    </tr>\n",
              "    <tr>\n",
              "      <th>top</th>\n",
              "      <td>ham</td>\n",
              "      <td>Sorry, I'll call later</td>\n",
              "    </tr>\n",
              "    <tr>\n",
              "      <th>freq</th>\n",
              "      <td>4976</td>\n",
              "      <td>30</td>\n",
              "    </tr>\n",
              "  </tbody>\n",
              "</table>\n",
              "</div>\n",
              "      <button class=\"colab-df-convert\" onclick=\"convertToInteractive('df-b11593e2-7902-4e25-ba21-5e3bf9e8d284')\"\n",
              "              title=\"Convert this dataframe to an interactive table.\"\n",
              "              style=\"display:none;\">\n",
              "        \n",
              "  <svg xmlns=\"http://www.w3.org/2000/svg\" height=\"24px\"viewBox=\"0 0 24 24\"\n",
              "       width=\"24px\">\n",
              "    <path d=\"M0 0h24v24H0V0z\" fill=\"none\"/>\n",
              "    <path d=\"M18.56 5.44l.94 2.06.94-2.06 2.06-.94-2.06-.94-.94-2.06-.94 2.06-2.06.94zm-11 1L8.5 8.5l.94-2.06 2.06-.94-2.06-.94L8.5 2.5l-.94 2.06-2.06.94zm10 10l.94 2.06.94-2.06 2.06-.94-2.06-.94-.94-2.06-.94 2.06-2.06.94z\"/><path d=\"M17.41 7.96l-1.37-1.37c-.4-.4-.92-.59-1.43-.59-.52 0-1.04.2-1.43.59L10.3 9.45l-7.72 7.72c-.78.78-.78 2.05 0 2.83L4 21.41c.39.39.9.59 1.41.59.51 0 1.02-.2 1.41-.59l7.78-7.78 2.81-2.81c.8-.78.8-2.07 0-2.86zM5.41 20L4 18.59l7.72-7.72 1.47 1.35L5.41 20z\"/>\n",
              "  </svg>\n",
              "      </button>\n",
              "      \n",
              "  <style>\n",
              "    .colab-df-container {\n",
              "      display:flex;\n",
              "      flex-wrap:wrap;\n",
              "      gap: 12px;\n",
              "    }\n",
              "\n",
              "    .colab-df-convert {\n",
              "      background-color: #E8F0FE;\n",
              "      border: none;\n",
              "      border-radius: 50%;\n",
              "      cursor: pointer;\n",
              "      display: none;\n",
              "      fill: #1967D2;\n",
              "      height: 32px;\n",
              "      padding: 0 0 0 0;\n",
              "      width: 32px;\n",
              "    }\n",
              "\n",
              "    .colab-df-convert:hover {\n",
              "      background-color: #E2EBFA;\n",
              "      box-shadow: 0px 1px 2px rgba(60, 64, 67, 0.3), 0px 1px 3px 1px rgba(60, 64, 67, 0.15);\n",
              "      fill: #174EA6;\n",
              "    }\n",
              "\n",
              "    [theme=dark] .colab-df-convert {\n",
              "      background-color: #3B4455;\n",
              "      fill: #D2E3FC;\n",
              "    }\n",
              "\n",
              "    [theme=dark] .colab-df-convert:hover {\n",
              "      background-color: #434B5C;\n",
              "      box-shadow: 0px 1px 3px 1px rgba(0, 0, 0, 0.15);\n",
              "      filter: drop-shadow(0px 1px 2px rgba(0, 0, 0, 0.3));\n",
              "      fill: #FFFFFF;\n",
              "    }\n",
              "  </style>\n",
              "\n",
              "      <script>\n",
              "        const buttonEl =\n",
              "          document.querySelector('#df-b11593e2-7902-4e25-ba21-5e3bf9e8d284 button.colab-df-convert');\n",
              "        buttonEl.style.display =\n",
              "          google.colab.kernel.accessAllowed ? 'block' : 'none';\n",
              "\n",
              "        async function convertToInteractive(key) {\n",
              "          const element = document.querySelector('#df-b11593e2-7902-4e25-ba21-5e3bf9e8d284');\n",
              "          const dataTable =\n",
              "            await google.colab.kernel.invokeFunction('convertToInteractive',\n",
              "                                                     [key], {});\n",
              "          if (!dataTable) return;\n",
              "\n",
              "          const docLinkHtml = 'Like what you see? Visit the ' +\n",
              "            '<a target=\"_blank\" href=https://colab.research.google.com/notebooks/data_table.ipynb>data table notebook</a>'\n",
              "            + ' to learn more about interactive tables.';\n",
              "          element.innerHTML = '';\n",
              "          dataTable['output_type'] = 'display_data';\n",
              "          await google.colab.output.renderOutput(dataTable, element);\n",
              "          const docLink = document.createElement('div');\n",
              "          docLink.innerHTML = docLinkHtml;\n",
              "          element.appendChild(docLink);\n",
              "        }\n",
              "      </script>\n",
              "    </div>\n",
              "  </div>\n",
              "  "
            ],
            "text/plain": [
              "       label                 message\n",
              "count   5876                    5876\n",
              "unique     2                    5436\n",
              "top      ham  Sorry, I'll call later\n",
              "freq    4976                      30"
            ]
          },
          "execution_count": 283,
          "metadata": {},
          "output_type": "execute_result"
        }
      ],
      "source": [
        "df.describe()"
      ]
    },
    {
      "cell_type": "code",
      "execution_count": null,
      "id": "377e3c3f",
      "metadata": {
        "colab": {
          "base_uri": "https://localhost:8080/"
        },
        "execution": {
          "iopub.execute_input": "2023-02-16T22:12:56.414256Z",
          "iopub.status.busy": "2023-02-16T22:12:56.413810Z",
          "iopub.status.idle": "2023-02-16T22:12:56.445976Z",
          "shell.execute_reply": "2023-02-16T22:12:56.444617Z"
        },
        "id": "377e3c3f",
        "outputId": "328ea19d-cfcc-4cb7-8515-19233787b5ca",
        "papermill": {
          "duration": 0.052162,
          "end_time": "2023-02-16T22:12:56.448526",
          "exception": false,
          "start_time": "2023-02-16T22:12:56.396364",
          "status": "completed"
        },
        "tags": []
      },
      "outputs": [
        {
          "data": {
            "text/html": [
              "\n",
              "  <div id=\"df-7a7a677f-3562-4a2e-894c-3cc1c1d30026\">\n",
              "    <div class=\"colab-df-container\">\n",
              "      <div>\n",
              "<style scoped>\n",
              "    .dataframe tbody tr th:only-of-type {\n",
              "        vertical-align: middle;\n",
              "    }\n",
              "\n",
              "    .dataframe tbody tr th {\n",
              "        vertical-align: top;\n",
              "    }\n",
              "\n",
              "    .dataframe thead tr th {\n",
              "        text-align: left;\n",
              "    }\n",
              "\n",
              "    .dataframe thead tr:last-of-type th {\n",
              "        text-align: right;\n",
              "    }\n",
              "</style>\n",
              "<table border=\"1\" class=\"dataframe\">\n",
              "  <thead>\n",
              "    <tr>\n",
              "      <th></th>\n",
              "      <th colspan=\"4\" halign=\"left\">message</th>\n",
              "    </tr>\n",
              "    <tr>\n",
              "      <th></th>\n",
              "      <th>count</th>\n",
              "      <th>unique</th>\n",
              "      <th>top</th>\n",
              "      <th>freq</th>\n",
              "    </tr>\n",
              "    <tr>\n",
              "      <th>label</th>\n",
              "      <th></th>\n",
              "      <th></th>\n",
              "      <th></th>\n",
              "      <th></th>\n",
              "    </tr>\n",
              "  </thead>\n",
              "  <tbody>\n",
              "    <tr>\n",
              "      <th>ham</th>\n",
              "      <td>4976</td>\n",
              "      <td>4667</td>\n",
              "      <td>Sorry, I'll call later</td>\n",
              "      <td>30</td>\n",
              "    </tr>\n",
              "    <tr>\n",
              "      <th>spam</th>\n",
              "      <td>900</td>\n",
              "      <td>769</td>\n",
              "      <td>You won't believe it but it's true. It's Incre...</td>\n",
              "      <td>4</td>\n",
              "    </tr>\n",
              "  </tbody>\n",
              "</table>\n",
              "</div>\n",
              "      <button class=\"colab-df-convert\" onclick=\"convertToInteractive('df-7a7a677f-3562-4a2e-894c-3cc1c1d30026')\"\n",
              "              title=\"Convert this dataframe to an interactive table.\"\n",
              "              style=\"display:none;\">\n",
              "        \n",
              "  <svg xmlns=\"http://www.w3.org/2000/svg\" height=\"24px\"viewBox=\"0 0 24 24\"\n",
              "       width=\"24px\">\n",
              "    <path d=\"M0 0h24v24H0V0z\" fill=\"none\"/>\n",
              "    <path d=\"M18.56 5.44l.94 2.06.94-2.06 2.06-.94-2.06-.94-.94-2.06-.94 2.06-2.06.94zm-11 1L8.5 8.5l.94-2.06 2.06-.94-2.06-.94L8.5 2.5l-.94 2.06-2.06.94zm10 10l.94 2.06.94-2.06 2.06-.94-2.06-.94-.94-2.06-.94 2.06-2.06.94z\"/><path d=\"M17.41 7.96l-1.37-1.37c-.4-.4-.92-.59-1.43-.59-.52 0-1.04.2-1.43.59L10.3 9.45l-7.72 7.72c-.78.78-.78 2.05 0 2.83L4 21.41c.39.39.9.59 1.41.59.51 0 1.02-.2 1.41-.59l7.78-7.78 2.81-2.81c.8-.78.8-2.07 0-2.86zM5.41 20L4 18.59l7.72-7.72 1.47 1.35L5.41 20z\"/>\n",
              "  </svg>\n",
              "      </button>\n",
              "      \n",
              "  <style>\n",
              "    .colab-df-container {\n",
              "      display:flex;\n",
              "      flex-wrap:wrap;\n",
              "      gap: 12px;\n",
              "    }\n",
              "\n",
              "    .colab-df-convert {\n",
              "      background-color: #E8F0FE;\n",
              "      border: none;\n",
              "      border-radius: 50%;\n",
              "      cursor: pointer;\n",
              "      display: none;\n",
              "      fill: #1967D2;\n",
              "      height: 32px;\n",
              "      padding: 0 0 0 0;\n",
              "      width: 32px;\n",
              "    }\n",
              "\n",
              "    .colab-df-convert:hover {\n",
              "      background-color: #E2EBFA;\n",
              "      box-shadow: 0px 1px 2px rgba(60, 64, 67, 0.3), 0px 1px 3px 1px rgba(60, 64, 67, 0.15);\n",
              "      fill: #174EA6;\n",
              "    }\n",
              "\n",
              "    [theme=dark] .colab-df-convert {\n",
              "      background-color: #3B4455;\n",
              "      fill: #D2E3FC;\n",
              "    }\n",
              "\n",
              "    [theme=dark] .colab-df-convert:hover {\n",
              "      background-color: #434B5C;\n",
              "      box-shadow: 0px 1px 3px 1px rgba(0, 0, 0, 0.15);\n",
              "      filter: drop-shadow(0px 1px 2px rgba(0, 0, 0, 0.3));\n",
              "      fill: #FFFFFF;\n",
              "    }\n",
              "  </style>\n",
              "\n",
              "      <script>\n",
              "        const buttonEl =\n",
              "          document.querySelector('#df-7a7a677f-3562-4a2e-894c-3cc1c1d30026 button.colab-df-convert');\n",
              "        buttonEl.style.display =\n",
              "          google.colab.kernel.accessAllowed ? 'block' : 'none';\n",
              "\n",
              "        async function convertToInteractive(key) {\n",
              "          const element = document.querySelector('#df-7a7a677f-3562-4a2e-894c-3cc1c1d30026');\n",
              "          const dataTable =\n",
              "            await google.colab.kernel.invokeFunction('convertToInteractive',\n",
              "                                                     [key], {});\n",
              "          if (!dataTable) return;\n",
              "\n",
              "          const docLinkHtml = 'Like what you see? Visit the ' +\n",
              "            '<a target=\"_blank\" href=https://colab.research.google.com/notebooks/data_table.ipynb>data table notebook</a>'\n",
              "            + ' to learn more about interactive tables.';\n",
              "          element.innerHTML = '';\n",
              "          dataTable['output_type'] = 'display_data';\n",
              "          await google.colab.output.renderOutput(dataTable, element);\n",
              "          const docLink = document.createElement('div');\n",
              "          docLink.innerHTML = docLinkHtml;\n",
              "          element.appendChild(docLink);\n",
              "        }\n",
              "      </script>\n",
              "    </div>\n",
              "  </div>\n",
              "  "
            ],
            "text/plain": [
              "      message                                                               \n",
              "        count unique                                                top freq\n",
              "label                                                                       \n",
              "ham      4976   4667                             Sorry, I'll call later   30\n",
              "spam      900    769  You won't believe it but it's true. It's Incre...    4"
            ]
          },
          "execution_count": 284,
          "metadata": {},
          "output_type": "execute_result"
        }
      ],
      "source": [
        "df.groupby(\"label\").describe()"
      ]
    },
    {
      "attachments": {},
      "cell_type": "markdown",
      "id": "068f517a",
      "metadata": {
        "id": "068f517a",
        "papermill": {
          "duration": 0.015579,
          "end_time": "2023-02-16T22:12:56.480056",
          "exception": false,
          "start_time": "2023-02-16T22:12:56.464477",
          "status": "completed"
        },
        "tags": []
      },
      "source": [
        "We have `4825` ham message and `747` spam message"
      ]
    },
    {
      "cell_type": "code",
      "execution_count": null,
      "id": "708e6081",
      "metadata": {
        "colab": {
          "base_uri": "https://localhost:8080/"
        },
        "execution": {
          "iopub.execute_input": "2023-02-16T22:12:56.514400Z",
          "iopub.status.busy": "2023-02-16T22:12:56.513605Z",
          "iopub.status.idle": "2023-02-16T22:12:56.526318Z",
          "shell.execute_reply": "2023-02-16T22:12:56.525159Z"
        },
        "id": "708e6081",
        "outputId": "ab6b939a-9df5-4b08-e468-e2133437a6e4",
        "papermill": {
          "duration": 0.032753,
          "end_time": "2023-02-16T22:12:56.528737",
          "exception": false,
          "start_time": "2023-02-16T22:12:56.495984",
          "status": "completed"
        },
        "tags": []
      },
      "outputs": [
        {
          "data": {
            "text/html": [
              "\n",
              "  <div id=\"df-c019ea93-3f0b-4a0c-8108-47787254c6cf\">\n",
              "    <div class=\"colab-df-container\">\n",
              "      <div>\n",
              "<style scoped>\n",
              "    .dataframe tbody tr th:only-of-type {\n",
              "        vertical-align: middle;\n",
              "    }\n",
              "\n",
              "    .dataframe tbody tr th {\n",
              "        vertical-align: top;\n",
              "    }\n",
              "\n",
              "    .dataframe thead th {\n",
              "        text-align: right;\n",
              "    }\n",
              "</style>\n",
              "<table border=\"1\" class=\"dataframe\">\n",
              "  <thead>\n",
              "    <tr style=\"text-align: right;\">\n",
              "      <th></th>\n",
              "      <th>label</th>\n",
              "      <th>message</th>\n",
              "      <th>label_num</th>\n",
              "    </tr>\n",
              "  </thead>\n",
              "  <tbody>\n",
              "    <tr>\n",
              "      <th>0</th>\n",
              "      <td>ham</td>\n",
              "      <td>Go until jurong point, crazy.. Available only ...</td>\n",
              "      <td>0</td>\n",
              "    </tr>\n",
              "    <tr>\n",
              "      <th>1</th>\n",
              "      <td>ham</td>\n",
              "      <td>Ok lar... Joking wif u oni...</td>\n",
              "      <td>0</td>\n",
              "    </tr>\n",
              "    <tr>\n",
              "      <th>2</th>\n",
              "      <td>spam</td>\n",
              "      <td>Free entry in 2 a wkly comp to win FA Cup fina...</td>\n",
              "      <td>1</td>\n",
              "    </tr>\n",
              "    <tr>\n",
              "      <th>3</th>\n",
              "      <td>ham</td>\n",
              "      <td>U dun say so early hor... U c already then say...</td>\n",
              "      <td>0</td>\n",
              "    </tr>\n",
              "    <tr>\n",
              "      <th>4</th>\n",
              "      <td>ham</td>\n",
              "      <td>Nah I don't think he goes to usf, he lives aro...</td>\n",
              "      <td>0</td>\n",
              "    </tr>\n",
              "  </tbody>\n",
              "</table>\n",
              "</div>\n",
              "      <button class=\"colab-df-convert\" onclick=\"convertToInteractive('df-c019ea93-3f0b-4a0c-8108-47787254c6cf')\"\n",
              "              title=\"Convert this dataframe to an interactive table.\"\n",
              "              style=\"display:none;\">\n",
              "        \n",
              "  <svg xmlns=\"http://www.w3.org/2000/svg\" height=\"24px\"viewBox=\"0 0 24 24\"\n",
              "       width=\"24px\">\n",
              "    <path d=\"M0 0h24v24H0V0z\" fill=\"none\"/>\n",
              "    <path d=\"M18.56 5.44l.94 2.06.94-2.06 2.06-.94-2.06-.94-.94-2.06-.94 2.06-2.06.94zm-11 1L8.5 8.5l.94-2.06 2.06-.94-2.06-.94L8.5 2.5l-.94 2.06-2.06.94zm10 10l.94 2.06.94-2.06 2.06-.94-2.06-.94-.94-2.06-.94 2.06-2.06.94z\"/><path d=\"M17.41 7.96l-1.37-1.37c-.4-.4-.92-.59-1.43-.59-.52 0-1.04.2-1.43.59L10.3 9.45l-7.72 7.72c-.78.78-.78 2.05 0 2.83L4 21.41c.39.39.9.59 1.41.59.51 0 1.02-.2 1.41-.59l7.78-7.78 2.81-2.81c.8-.78.8-2.07 0-2.86zM5.41 20L4 18.59l7.72-7.72 1.47 1.35L5.41 20z\"/>\n",
              "  </svg>\n",
              "      </button>\n",
              "      \n",
              "  <style>\n",
              "    .colab-df-container {\n",
              "      display:flex;\n",
              "      flex-wrap:wrap;\n",
              "      gap: 12px;\n",
              "    }\n",
              "\n",
              "    .colab-df-convert {\n",
              "      background-color: #E8F0FE;\n",
              "      border: none;\n",
              "      border-radius: 50%;\n",
              "      cursor: pointer;\n",
              "      display: none;\n",
              "      fill: #1967D2;\n",
              "      height: 32px;\n",
              "      padding: 0 0 0 0;\n",
              "      width: 32px;\n",
              "    }\n",
              "\n",
              "    .colab-df-convert:hover {\n",
              "      background-color: #E2EBFA;\n",
              "      box-shadow: 0px 1px 2px rgba(60, 64, 67, 0.3), 0px 1px 3px 1px rgba(60, 64, 67, 0.15);\n",
              "      fill: #174EA6;\n",
              "    }\n",
              "\n",
              "    [theme=dark] .colab-df-convert {\n",
              "      background-color: #3B4455;\n",
              "      fill: #D2E3FC;\n",
              "    }\n",
              "\n",
              "    [theme=dark] .colab-df-convert:hover {\n",
              "      background-color: #434B5C;\n",
              "      box-shadow: 0px 1px 3px 1px rgba(0, 0, 0, 0.15);\n",
              "      filter: drop-shadow(0px 1px 2px rgba(0, 0, 0, 0.3));\n",
              "      fill: #FFFFFF;\n",
              "    }\n",
              "  </style>\n",
              "\n",
              "      <script>\n",
              "        const buttonEl =\n",
              "          document.querySelector('#df-c019ea93-3f0b-4a0c-8108-47787254c6cf button.colab-df-convert');\n",
              "        buttonEl.style.display =\n",
              "          google.colab.kernel.accessAllowed ? 'block' : 'none';\n",
              "\n",
              "        async function convertToInteractive(key) {\n",
              "          const element = document.querySelector('#df-c019ea93-3f0b-4a0c-8108-47787254c6cf');\n",
              "          const dataTable =\n",
              "            await google.colab.kernel.invokeFunction('convertToInteractive',\n",
              "                                                     [key], {});\n",
              "          if (!dataTable) return;\n",
              "\n",
              "          const docLinkHtml = 'Like what you see? Visit the ' +\n",
              "            '<a target=\"_blank\" href=https://colab.research.google.com/notebooks/data_table.ipynb>data table notebook</a>'\n",
              "            + ' to learn more about interactive tables.';\n",
              "          element.innerHTML = '';\n",
              "          dataTable['output_type'] = 'display_data';\n",
              "          await google.colab.output.renderOutput(dataTable, element);\n",
              "          const docLink = document.createElement('div');\n",
              "          docLink.innerHTML = docLinkHtml;\n",
              "          element.appendChild(docLink);\n",
              "        }\n",
              "      </script>\n",
              "    </div>\n",
              "  </div>\n",
              "  "
            ],
            "text/plain": [
              "  label                                            message  label_num\n",
              "0   ham  Go until jurong point, crazy.. Available only ...          0\n",
              "1   ham                      Ok lar... Joking wif u oni...          0\n",
              "2  spam  Free entry in 2 a wkly comp to win FA Cup fina...          1\n",
              "3   ham  U dun say so early hor... U c already then say...          0\n",
              "4   ham  Nah I don't think he goes to usf, he lives aro...          0"
            ]
          },
          "execution_count": 285,
          "metadata": {},
          "output_type": "execute_result"
        }
      ],
      "source": [
        "# convert label to a numerical variable\n",
        "df[\"label_num\"] = df.label.map({\"ham\": 0, \"spam\": 1})\n",
        "df.head()"
      ]
    },
    {
      "attachments": {},
      "cell_type": "markdown",
      "id": "954e359d",
      "metadata": {
        "id": "954e359d",
        "papermill": {
          "duration": 0.015674,
          "end_time": "2023-02-16T22:12:56.560697",
          "exception": false,
          "start_time": "2023-02-16T22:12:56.545023",
          "status": "completed"
        },
        "tags": []
      },
      "source": [
        "> As we continue our analysis we want to start thinking about the features we are going to be using. This goes along with the general idea of feature engineering. The better your domain knowledge on the data, the better your ability to engineer more features from it. Feature engineering is a very large part of spam detection in general."
      ]
    },
    {
      "cell_type": "code",
      "execution_count": null,
      "id": "266b0490",
      "metadata": {
        "colab": {
          "base_uri": "https://localhost:8080/"
        },
        "execution": {
          "iopub.execute_input": "2023-02-16T22:12:56.595320Z",
          "iopub.status.busy": "2023-02-16T22:12:56.594624Z",
          "iopub.status.idle": "2023-02-16T22:12:56.609370Z",
          "shell.execute_reply": "2023-02-16T22:12:56.608031Z"
        },
        "id": "266b0490",
        "outputId": "d7868455-8b46-4a7a-c827-e288f789bc67",
        "papermill": {
          "duration": 0.035513,
          "end_time": "2023-02-16T22:12:56.612285",
          "exception": false,
          "start_time": "2023-02-16T22:12:56.576772",
          "status": "completed"
        },
        "tags": []
      },
      "outputs": [
        {
          "data": {
            "text/html": [
              "\n",
              "  <div id=\"df-159d8541-397b-4ef8-9303-540e67cf83a2\">\n",
              "    <div class=\"colab-df-container\">\n",
              "      <div>\n",
              "<style scoped>\n",
              "    .dataframe tbody tr th:only-of-type {\n",
              "        vertical-align: middle;\n",
              "    }\n",
              "\n",
              "    .dataframe tbody tr th {\n",
              "        vertical-align: top;\n",
              "    }\n",
              "\n",
              "    .dataframe thead th {\n",
              "        text-align: right;\n",
              "    }\n",
              "</style>\n",
              "<table border=\"1\" class=\"dataframe\">\n",
              "  <thead>\n",
              "    <tr style=\"text-align: right;\">\n",
              "      <th></th>\n",
              "      <th>label</th>\n",
              "      <th>message</th>\n",
              "      <th>label_num</th>\n",
              "      <th>message_len</th>\n",
              "    </tr>\n",
              "  </thead>\n",
              "  <tbody>\n",
              "    <tr>\n",
              "      <th>0</th>\n",
              "      <td>ham</td>\n",
              "      <td>Go until jurong point, crazy.. Available only ...</td>\n",
              "      <td>0</td>\n",
              "      <td>111</td>\n",
              "    </tr>\n",
              "    <tr>\n",
              "      <th>1</th>\n",
              "      <td>ham</td>\n",
              "      <td>Ok lar... Joking wif u oni...</td>\n",
              "      <td>0</td>\n",
              "      <td>29</td>\n",
              "    </tr>\n",
              "    <tr>\n",
              "      <th>2</th>\n",
              "      <td>spam</td>\n",
              "      <td>Free entry in 2 a wkly comp to win FA Cup fina...</td>\n",
              "      <td>1</td>\n",
              "      <td>155</td>\n",
              "    </tr>\n",
              "    <tr>\n",
              "      <th>3</th>\n",
              "      <td>ham</td>\n",
              "      <td>U dun say so early hor... U c already then say...</td>\n",
              "      <td>0</td>\n",
              "      <td>49</td>\n",
              "    </tr>\n",
              "    <tr>\n",
              "      <th>4</th>\n",
              "      <td>ham</td>\n",
              "      <td>Nah I don't think he goes to usf, he lives aro...</td>\n",
              "      <td>0</td>\n",
              "      <td>61</td>\n",
              "    </tr>\n",
              "  </tbody>\n",
              "</table>\n",
              "</div>\n",
              "      <button class=\"colab-df-convert\" onclick=\"convertToInteractive('df-159d8541-397b-4ef8-9303-540e67cf83a2')\"\n",
              "              title=\"Convert this dataframe to an interactive table.\"\n",
              "              style=\"display:none;\">\n",
              "        \n",
              "  <svg xmlns=\"http://www.w3.org/2000/svg\" height=\"24px\"viewBox=\"0 0 24 24\"\n",
              "       width=\"24px\">\n",
              "    <path d=\"M0 0h24v24H0V0z\" fill=\"none\"/>\n",
              "    <path d=\"M18.56 5.44l.94 2.06.94-2.06 2.06-.94-2.06-.94-.94-2.06-.94 2.06-2.06.94zm-11 1L8.5 8.5l.94-2.06 2.06-.94-2.06-.94L8.5 2.5l-.94 2.06-2.06.94zm10 10l.94 2.06.94-2.06 2.06-.94-2.06-.94-.94-2.06-.94 2.06-2.06.94z\"/><path d=\"M17.41 7.96l-1.37-1.37c-.4-.4-.92-.59-1.43-.59-.52 0-1.04.2-1.43.59L10.3 9.45l-7.72 7.72c-.78.78-.78 2.05 0 2.83L4 21.41c.39.39.9.59 1.41.59.51 0 1.02-.2 1.41-.59l7.78-7.78 2.81-2.81c.8-.78.8-2.07 0-2.86zM5.41 20L4 18.59l7.72-7.72 1.47 1.35L5.41 20z\"/>\n",
              "  </svg>\n",
              "      </button>\n",
              "      \n",
              "  <style>\n",
              "    .colab-df-container {\n",
              "      display:flex;\n",
              "      flex-wrap:wrap;\n",
              "      gap: 12px;\n",
              "    }\n",
              "\n",
              "    .colab-df-convert {\n",
              "      background-color: #E8F0FE;\n",
              "      border: none;\n",
              "      border-radius: 50%;\n",
              "      cursor: pointer;\n",
              "      display: none;\n",
              "      fill: #1967D2;\n",
              "      height: 32px;\n",
              "      padding: 0 0 0 0;\n",
              "      width: 32px;\n",
              "    }\n",
              "\n",
              "    .colab-df-convert:hover {\n",
              "      background-color: #E2EBFA;\n",
              "      box-shadow: 0px 1px 2px rgba(60, 64, 67, 0.3), 0px 1px 3px 1px rgba(60, 64, 67, 0.15);\n",
              "      fill: #174EA6;\n",
              "    }\n",
              "\n",
              "    [theme=dark] .colab-df-convert {\n",
              "      background-color: #3B4455;\n",
              "      fill: #D2E3FC;\n",
              "    }\n",
              "\n",
              "    [theme=dark] .colab-df-convert:hover {\n",
              "      background-color: #434B5C;\n",
              "      box-shadow: 0px 1px 3px 1px rgba(0, 0, 0, 0.15);\n",
              "      filter: drop-shadow(0px 1px 2px rgba(0, 0, 0, 0.3));\n",
              "      fill: #FFFFFF;\n",
              "    }\n",
              "  </style>\n",
              "\n",
              "      <script>\n",
              "        const buttonEl =\n",
              "          document.querySelector('#df-159d8541-397b-4ef8-9303-540e67cf83a2 button.colab-df-convert');\n",
              "        buttonEl.style.display =\n",
              "          google.colab.kernel.accessAllowed ? 'block' : 'none';\n",
              "\n",
              "        async function convertToInteractive(key) {\n",
              "          const element = document.querySelector('#df-159d8541-397b-4ef8-9303-540e67cf83a2');\n",
              "          const dataTable =\n",
              "            await google.colab.kernel.invokeFunction('convertToInteractive',\n",
              "                                                     [key], {});\n",
              "          if (!dataTable) return;\n",
              "\n",
              "          const docLinkHtml = 'Like what you see? Visit the ' +\n",
              "            '<a target=\"_blank\" href=https://colab.research.google.com/notebooks/data_table.ipynb>data table notebook</a>'\n",
              "            + ' to learn more about interactive tables.';\n",
              "          element.innerHTML = '';\n",
              "          dataTable['output_type'] = 'display_data';\n",
              "          await google.colab.output.renderOutput(dataTable, element);\n",
              "          const docLink = document.createElement('div');\n",
              "          docLink.innerHTML = docLinkHtml;\n",
              "          element.appendChild(docLink);\n",
              "        }\n",
              "      </script>\n",
              "    </div>\n",
              "  </div>\n",
              "  "
            ],
            "text/plain": [
              "  label                                            message  label_num  \\\n",
              "0   ham  Go until jurong point, crazy.. Available only ...          0   \n",
              "1   ham                      Ok lar... Joking wif u oni...          0   \n",
              "2  spam  Free entry in 2 a wkly comp to win FA Cup fina...          1   \n",
              "3   ham  U dun say so early hor... U c already then say...          0   \n",
              "4   ham  Nah I don't think he goes to usf, he lives aro...          0   \n",
              "\n",
              "   message_len  \n",
              "0          111  \n",
              "1           29  \n",
              "2          155  \n",
              "3           49  \n",
              "4           61  "
            ]
          },
          "execution_count": 286,
          "metadata": {},
          "output_type": "execute_result"
        }
      ],
      "source": [
        "df[\"message_len\"] = df.message.apply(len)\n",
        "df.head()"
      ]
    },
    {
      "cell_type": "code",
      "execution_count": null,
      "id": "0e50587f",
      "metadata": {
        "colab": {
          "base_uri": "https://localhost:8080/"
        },
        "execution": {
          "iopub.execute_input": "2023-02-16T22:12:56.648436Z",
          "iopub.status.busy": "2023-02-16T22:12:56.647956Z",
          "iopub.status.idle": "2023-02-16T22:12:57.190849Z",
          "shell.execute_reply": "2023-02-16T22:12:57.189591Z"
        },
        "id": "0e50587f",
        "outputId": "0220a2a2-0c80-4ed2-e01a-a16c4bac99c6",
        "papermill": {
          "duration": 0.564081,
          "end_time": "2023-02-16T22:12:57.193563",
          "exception": false,
          "start_time": "2023-02-16T22:12:56.629482",
          "status": "completed"
        },
        "tags": []
      },
      "outputs": [
        {
          "data": {
            "text/plain": [
              "Text(0.5, 0, 'Message Length')"
            ]
          },
          "execution_count": 287,
          "metadata": {},
          "output_type": "execute_result"
        },
        {
          "data": {
            "image/png": "[encoded data removed]",
            "text/plain": [
              "<Figure size 1200x800 with 1 Axes>"
            ]
          },
          "metadata": {},
          "output_type": "display_data"
        }
      ],
      "source": [
        "plt.figure(figsize=(12, 8))\n",
        "\n",
        "df[df.label == \"ham\"].message_len.plot(\n",
        "    bins=35, kind=\"hist\", color=\"blue\", label=\"Ham messages\", alpha=0.6\n",
        ")\n",
        "df[df.label == \"spam\"].message_len.plot(\n",
        "    kind=\"hist\", color=\"red\", label=\"Spam messages\", alpha=0.6\n",
        ")\n",
        "plt.legend()\n",
        "plt.xlabel(\"Message Length\")"
      ]
    },
    {
      "attachments": {},
      "cell_type": "markdown",
      "id": "f5b0b5fa",
      "metadata": {
        "id": "f5b0b5fa",
        "papermill": {
          "duration": 0.017296,
          "end_time": "2023-02-16T22:12:57.228863",
          "exception": false,
          "start_time": "2023-02-16T22:12:57.211567",
          "status": "completed"
        },
        "tags": []
      },
      "source": [
        "> Very interesting! Through just basic EDA we've been able to discover a trend that spam messages tend to have more characters."
      ]
    },
    {
      "cell_type": "code",
      "execution_count": null,
      "id": "1b767a78",
      "metadata": {
        "colab": {
          "base_uri": "https://localhost:8080/"
        },
        "execution": {
          "iopub.execute_input": "2023-02-16T22:12:57.266895Z",
          "iopub.status.busy": "2023-02-16T22:12:57.265556Z",
          "iopub.status.idle": "2023-02-16T22:12:57.290443Z",
          "shell.execute_reply": "2023-02-16T22:12:57.289139Z"
        },
        "id": "1b767a78",
        "outputId": "32cd006a-f357-4cdc-98c0-c89322bdf514",
        "papermill": {
          "duration": 0.046374,
          "end_time": "2023-02-16T22:12:57.292934",
          "exception": false,
          "start_time": "2023-02-16T22:12:57.246560",
          "status": "completed"
        },
        "tags": []
      },
      "outputs": [
        {
          "data": {
            "text/html": [
              "\n",
              "  <div id=\"df-477e0f5a-624a-497a-8ac0-ca1b383c9cad\">\n",
              "    <div class=\"colab-df-container\">\n",
              "      <div>\n",
              "<style scoped>\n",
              "    .dataframe tbody tr th:only-of-type {\n",
              "        vertical-align: middle;\n",
              "    }\n",
              "\n",
              "    .dataframe tbody tr th {\n",
              "        vertical-align: top;\n",
              "    }\n",
              "\n",
              "    .dataframe thead th {\n",
              "        text-align: right;\n",
              "    }\n",
              "</style>\n",
              "<table border=\"1\" class=\"dataframe\">\n",
              "  <thead>\n",
              "    <tr style=\"text-align: right;\">\n",
              "      <th></th>\n",
              "      <th>label_num</th>\n",
              "      <th>message_len</th>\n",
              "    </tr>\n",
              "  </thead>\n",
              "  <tbody>\n",
              "    <tr>\n",
              "      <th>count</th>\n",
              "      <td>4976.0</td>\n",
              "      <td>4976.000000</td>\n",
              "    </tr>\n",
              "    <tr>\n",
              "      <th>mean</th>\n",
              "      <td>0.0</td>\n",
              "      <td>70.355707</td>\n",
              "    </tr>\n",
              "    <tr>\n",
              "      <th>std</th>\n",
              "      <td>0.0</td>\n",
              "      <td>57.405616</td>\n",
              "    </tr>\n",
              "    <tr>\n",
              "      <th>min</th>\n",
              "      <td>0.0</td>\n",
              "      <td>2.000000</td>\n",
              "    </tr>\n",
              "    <tr>\n",
              "      <th>25%</th>\n",
              "      <td>0.0</td>\n",
              "      <td>33.000000</td>\n",
              "    </tr>\n",
              "    <tr>\n",
              "      <th>50%</th>\n",
              "      <td>0.0</td>\n",
              "      <td>52.000000</td>\n",
              "    </tr>\n",
              "    <tr>\n",
              "      <th>75%</th>\n",
              "      <td>0.0</td>\n",
              "      <td>90.000000</td>\n",
              "    </tr>\n",
              "    <tr>\n",
              "      <th>max</th>\n",
              "      <td>0.0</td>\n",
              "      <td>910.000000</td>\n",
              "    </tr>\n",
              "  </tbody>\n",
              "</table>\n",
              "</div>\n",
              "      <button class=\"colab-df-convert\" onclick=\"convertToInteractive('df-477e0f5a-624a-497a-8ac0-ca1b383c9cad')\"\n",
              "              title=\"Convert this dataframe to an interactive table.\"\n",
              "              style=\"display:none;\">\n",
              "        \n",
              "  <svg xmlns=\"http://www.w3.org/2000/svg\" height=\"24px\"viewBox=\"0 0 24 24\"\n",
              "       width=\"24px\">\n",
              "    <path d=\"M0 0h24v24H0V0z\" fill=\"none\"/>\n",
              "    <path d=\"M18.56 5.44l.94 2.06.94-2.06 2.06-.94-2.06-.94-.94-2.06-.94 2.06-2.06.94zm-11 1L8.5 8.5l.94-2.06 2.06-.94-2.06-.94L8.5 2.5l-.94 2.06-2.06.94zm10 10l.94 2.06.94-2.06 2.06-.94-2.06-.94-.94-2.06-.94 2.06-2.06.94z\"/><path d=\"M17.41 7.96l-1.37-1.37c-.4-.4-.92-.59-1.43-.59-.52 0-1.04.2-1.43.59L10.3 9.45l-7.72 7.72c-.78.78-.78 2.05 0 2.83L4 21.41c.39.39.9.59 1.41.59.51 0 1.02-.2 1.41-.59l7.78-7.78 2.81-2.81c.8-.78.8-2.07 0-2.86zM5.41 20L4 18.59l7.72-7.72 1.47 1.35L5.41 20z\"/>\n",
              "  </svg>\n",
              "      </button>\n",
              "      \n",
              "  <style>\n",
              "    .colab-df-container {\n",
              "      display:flex;\n",
              "      flex-wrap:wrap;\n",
              "      gap: 12px;\n",
              "    }\n",
              "\n",
              "    .colab-df-convert {\n",
              "      background-color: #E8F0FE;\n",
              "      border: none;\n",
              "      border-radius: 50%;\n",
              "      cursor: pointer;\n",
              "      display: none;\n",
              "      fill: #1967D2;\n",
              "      height: 32px;\n",
              "      padding: 0 0 0 0;\n",
              "      width: 32px;\n",
              "    }\n",
              "\n",
              "    .colab-df-convert:hover {\n",
              "      background-color: #E2EBFA;\n",
              "      box-shadow: 0px 1px 2px rgba(60, 64, 67, 0.3), 0px 1px 3px 1px rgba(60, 64, 67, 0.15);\n",
              "      fill: #174EA6;\n",
              "    }\n",
              "\n",
              "    [theme=dark] .colab-df-convert {\n",
              "      background-color: #3B4455;\n",
              "      fill: #D2E3FC;\n",
              "    }\n",
              "\n",
              "    [theme=dark] .colab-df-convert:hover {\n",
              "      background-color: #434B5C;\n",
              "      box-shadow: 0px 1px 3px 1px rgba(0, 0, 0, 0.15);\n",
              "      filter: drop-shadow(0px 1px 2px rgba(0, 0, 0, 0.3));\n",
              "      fill: #FFFFFF;\n",
              "    }\n",
              "  </style>\n",
              "\n",
              "      <script>\n",
              "        const buttonEl =\n",
              "          document.querySelector('#df-477e0f5a-624a-497a-8ac0-ca1b383c9cad button.colab-df-convert');\n",
              "        buttonEl.style.display =\n",
              "          google.colab.kernel.accessAllowed ? 'block' : 'none';\n",
              "\n",
              "        async function convertToInteractive(key) {\n",
              "          const element = document.querySelector('#df-477e0f5a-624a-497a-8ac0-ca1b383c9cad');\n",
              "          const dataTable =\n",
              "            await google.colab.kernel.invokeFunction('convertToInteractive',\n",
              "                                                     [key], {});\n",
              "          if (!dataTable) return;\n",
              "\n",
              "          const docLinkHtml = 'Like what you see? Visit the ' +\n",
              "            '<a target=\"_blank\" href=https://colab.research.google.com/notebooks/data_table.ipynb>data table notebook</a>'\n",
              "            + ' to learn more about interactive tables.';\n",
              "          element.innerHTML = '';\n",
              "          dataTable['output_type'] = 'display_data';\n",
              "          await google.colab.output.renderOutput(dataTable, element);\n",
              "          const docLink = document.createElement('div');\n",
              "          docLink.innerHTML = docLinkHtml;\n",
              "          element.appendChild(docLink);\n",
              "        }\n",
              "      </script>\n",
              "    </div>\n",
              "  </div>\n",
              "  "
            ],
            "text/plain": [
              "       label_num  message_len\n",
              "count     4976.0  4976.000000\n",
              "mean         0.0    70.355707\n",
              "std          0.0    57.405616\n",
              "min          0.0     2.000000\n",
              "25%          0.0    33.000000\n",
              "50%          0.0    52.000000\n",
              "75%          0.0    90.000000\n",
              "max          0.0   910.000000"
            ]
          },
          "execution_count": 288,
          "metadata": {},
          "output_type": "execute_result"
        }
      ],
      "source": [
        "df[df.label == \"ham\"].describe()"
      ]
    },
    {
      "cell_type": "code",
      "execution_count": null,
      "id": "24c4b7f0",
      "metadata": {
        "colab": {
          "base_uri": "https://localhost:8080/"
        },
        "execution": {
          "iopub.execute_input": "2023-02-16T22:12:57.330291Z",
          "iopub.status.busy": "2023-02-16T22:12:57.329603Z",
          "iopub.status.idle": "2023-02-16T22:12:57.347574Z",
          "shell.execute_reply": "2023-02-16T22:12:57.346742Z"
        },
        "id": "24c4b7f0",
        "outputId": "7c7d839a-7ef6-4cb7-e7a9-f9a9623033f9",
        "papermill": {
          "duration": 0.039498,
          "end_time": "2023-02-16T22:12:57.349927",
          "exception": false,
          "start_time": "2023-02-16T22:12:57.310429",
          "status": "completed"
        },
        "tags": []
      },
      "outputs": [
        {
          "data": {
            "text/html": [
              "\n",
              "  <div id=\"df-54c91612-2f63-480b-a3c9-0a1cbf9be055\">\n",
              "    <div class=\"colab-df-container\">\n",
              "      <div>\n",
              "<style scoped>\n",
              "    .dataframe tbody tr th:only-of-type {\n",
              "        vertical-align: middle;\n",
              "    }\n",
              "\n",
              "    .dataframe tbody tr th {\n",
              "        vertical-align: top;\n",
              "    }\n",
              "\n",
              "    .dataframe thead th {\n",
              "        text-align: right;\n",
              "    }\n",
              "</style>\n",
              "<table border=\"1\" class=\"dataframe\">\n",
              "  <thead>\n",
              "    <tr style=\"text-align: right;\">\n",
              "      <th></th>\n",
              "      <th>label_num</th>\n",
              "      <th>message_len</th>\n",
              "    </tr>\n",
              "  </thead>\n",
              "  <tbody>\n",
              "    <tr>\n",
              "      <th>count</th>\n",
              "      <td>900.0</td>\n",
              "      <td>900.000000</td>\n",
              "    </tr>\n",
              "    <tr>\n",
              "      <th>mean</th>\n",
              "      <td>1.0</td>\n",
              "      <td>137.542222</td>\n",
              "    </tr>\n",
              "    <tr>\n",
              "      <th>std</th>\n",
              "      <td>0.0</td>\n",
              "      <td>30.249489</td>\n",
              "    </tr>\n",
              "    <tr>\n",
              "      <th>min</th>\n",
              "      <td>1.0</td>\n",
              "      <td>13.000000</td>\n",
              "    </tr>\n",
              "    <tr>\n",
              "      <th>25%</th>\n",
              "      <td>1.0</td>\n",
              "      <td>129.750000</td>\n",
              "    </tr>\n",
              "    <tr>\n",
              "      <th>50%</th>\n",
              "      <td>1.0</td>\n",
              "      <td>149.000000</td>\n",
              "    </tr>\n",
              "    <tr>\n",
              "      <th>75%</th>\n",
              "      <td>1.0</td>\n",
              "      <td>158.000000</td>\n",
              "    </tr>\n",
              "    <tr>\n",
              "      <th>max</th>\n",
              "      <td>1.0</td>\n",
              "      <td>224.000000</td>\n",
              "    </tr>\n",
              "  </tbody>\n",
              "</table>\n",
              "</div>\n",
              "      <button class=\"colab-df-convert\" onclick=\"convertToInteractive('df-54c91612-2f63-480b-a3c9-0a1cbf9be055')\"\n",
              "              title=\"Convert this dataframe to an interactive table.\"\n",
              "              style=\"display:none;\">\n",
              "        \n",
              "  <svg xmlns=\"http://www.w3.org/2000/svg\" height=\"24px\"viewBox=\"0 0 24 24\"\n",
              "       width=\"24px\">\n",
              "    <path d=\"M0 0h24v24H0V0z\" fill=\"none\"/>\n",
              "    <path d=\"M18.56 5.44l.94 2.06.94-2.06 2.06-.94-2.06-.94-.94-2.06-.94 2.06-2.06.94zm-11 1L8.5 8.5l.94-2.06 2.06-.94-2.06-.94L8.5 2.5l-.94 2.06-2.06.94zm10 10l.94 2.06.94-2.06 2.06-.94-2.06-.94-.94-2.06-.94 2.06-2.06.94z\"/><path d=\"M17.41 7.96l-1.37-1.37c-.4-.4-.92-.59-1.43-.59-.52 0-1.04.2-1.43.59L10.3 9.45l-7.72 7.72c-.78.78-.78 2.05 0 2.83L4 21.41c.39.39.9.59 1.41.59.51 0 1.02-.2 1.41-.59l7.78-7.78 2.81-2.81c.8-.78.8-2.07 0-2.86zM5.41 20L4 18.59l7.72-7.72 1.47 1.35L5.41 20z\"/>\n",
              "  </svg>\n",
              "      </button>\n",
              "      \n",
              "  <style>\n",
              "    .colab-df-container {\n",
              "      display:flex;\n",
              "      flex-wrap:wrap;\n",
              "      gap: 12px;\n",
              "    }\n",
              "\n",
              "    .colab-df-convert {\n",
              "      background-color: #E8F0FE;\n",
              "      border: none;\n",
              "      border-radius: 50%;\n",
              "      cursor: pointer;\n",
              "      display: none;\n",
              "      fill: #1967D2;\n",
              "      height: 32px;\n",
              "      padding: 0 0 0 0;\n",
              "      width: 32px;\n",
              "    }\n",
              "\n",
              "    .colab-df-convert:hover {\n",
              "      background-color: #E2EBFA;\n",
              "      box-shadow: 0px 1px 2px rgba(60, 64, 67, 0.3), 0px 1px 3px 1px rgba(60, 64, 67, 0.15);\n",
              "      fill: #174EA6;\n",
              "    }\n",
              "\n",
              "    [theme=dark] .colab-df-convert {\n",
              "      background-color: #3B4455;\n",
              "      fill: #D2E3FC;\n",
              "    }\n",
              "\n",
              "    [theme=dark] .colab-df-convert:hover {\n",
              "      background-color: #434B5C;\n",
              "      box-shadow: 0px 1px 3px 1px rgba(0, 0, 0, 0.15);\n",
              "      filter: drop-shadow(0px 1px 2px rgba(0, 0, 0, 0.3));\n",
              "      fill: #FFFFFF;\n",
              "    }\n",
              "  </style>\n",
              "\n",
              "      <script>\n",
              "        const buttonEl =\n",
              "          document.querySelector('#df-54c91612-2f63-480b-a3c9-0a1cbf9be055 button.colab-df-convert');\n",
              "        buttonEl.style.display =\n",
              "          google.colab.kernel.accessAllowed ? 'block' : 'none';\n",
              "\n",
              "        async function convertToInteractive(key) {\n",
              "          const element = document.querySelector('#df-54c91612-2f63-480b-a3c9-0a1cbf9be055');\n",
              "          const dataTable =\n",
              "            await google.colab.kernel.invokeFunction('convertToInteractive',\n",
              "                                                     [key], {});\n",
              "          if (!dataTable) return;\n",
              "\n",
              "          const docLinkHtml = 'Like what you see? Visit the ' +\n",
              "            '<a target=\"_blank\" href=https://colab.research.google.com/notebooks/data_table.ipynb>data table notebook</a>'\n",
              "            + ' to learn more about interactive tables.';\n",
              "          element.innerHTML = '';\n",
              "          dataTable['output_type'] = 'display_data';\n",
              "          await google.colab.output.renderOutput(dataTable, element);\n",
              "          const docLink = document.createElement('div');\n",
              "          docLink.innerHTML = docLinkHtml;\n",
              "          element.appendChild(docLink);\n",
              "        }\n",
              "      </script>\n",
              "    </div>\n",
              "  </div>\n",
              "  "
            ],
            "text/plain": [
              "       label_num  message_len\n",
              "count      900.0   900.000000\n",
              "mean         1.0   137.542222\n",
              "std          0.0    30.249489\n",
              "min          1.0    13.000000\n",
              "25%          1.0   129.750000\n",
              "50%          1.0   149.000000\n",
              "75%          1.0   158.000000\n",
              "max          1.0   224.000000"
            ]
          },
          "execution_count": 289,
          "metadata": {},
          "output_type": "execute_result"
        }
      ],
      "source": [
        "df[df.label == \"spam\"].describe()"
      ]
    },
    {
      "attachments": {},
      "cell_type": "markdown",
      "id": "bbd52096",
      "metadata": {
        "id": "bbd52096",
        "papermill": {
          "duration": 0.017562,
          "end_time": "2023-02-16T22:12:57.385511",
          "exception": false,
          "start_time": "2023-02-16T22:12:57.367949",
          "status": "completed"
        },
        "tags": []
      },
      "source": [
        "> Woah! 910 characters, let's use masking to find this message:"
      ]
    },
    {
      "cell_type": "code",
      "execution_count": null,
      "id": "b469cbee",
      "metadata": {
        "colab": {
          "base_uri": "https://localhost:8080/"
        },
        "execution": {
          "iopub.execute_input": "2023-02-16T22:12:57.423782Z",
          "iopub.status.busy": "2023-02-16T22:12:57.423179Z",
          "iopub.status.idle": "2023-02-16T22:12:57.430562Z",
          "shell.execute_reply": "2023-02-16T22:12:57.429554Z"
        },
        "id": "b469cbee",
        "outputId": "a297f71b-b790-44ed-efc4-9d09593e2421",
        "papermill": {
          "duration": 0.029112,
          "end_time": "2023-02-16T22:12:57.432902",
          "exception": false,
          "start_time": "2023-02-16T22:12:57.403790",
          "status": "completed"
        },
        "tags": []
      },
      "outputs": [
        {
          "data": {
            "application/vnd.google.colaboratory.intrinsic+json": {
              "type": "string"
            },
            "text/plain": [
              "\"For me the love should start with attraction.i should feel that I need her every time around me.she should be the first thing which comes in my thoughts.I would start the day and end it with her.she should be there every time I dream.love will be then when my every breath has her name.my life should happen around her.my life will be named to her.I would cry for her.will give all my happiness and take all her sorrows.I will be ready to fight with anyone for her.I will be in love when I will be doing the craziest things for her.love will be when I don't have to proove anyone that my girl is the most beautiful lady on the whole planet.I will always be singing praises for her.love will be when I start up making chicken curry and end up makiing sambar.life will be the most beautiful then.will get every morning and thank god for the day because she is with me.I would like to say a lot..will tell later..\""
            ]
          },
          "execution_count": 290,
          "metadata": {},
          "output_type": "execute_result"
        }
      ],
      "source": [
        "df[df.message_len == 910].message.iloc[0]"
      ]
    },
    {
      "attachments": {},
      "cell_type": "markdown",
      "id": "b1378e63",
      "metadata": {
        "id": "b1378e63",
        "papermill": {
          "duration": 0.017635,
          "end_time": "2023-02-16T22:12:57.470366",
          "exception": false,
          "start_time": "2023-02-16T22:12:57.452731",
          "status": "completed"
        },
        "tags": []
      },
      "source": [
        "# 📑 Text Pre-processing\n"
      ]
    },
    {
      "cell_type": "code",
      "execution_count": null,
      "id": "181222f5",
      "metadata": {
        "colab": {
          "base_uri": "https://localhost:8080/"
        },
        "execution": {
          "iopub.execute_input": "2023-02-16T22:12:57.507881Z",
          "iopub.status.busy": "2023-02-16T22:12:57.507467Z",
          "iopub.status.idle": "2023-02-16T22:12:58.167389Z",
          "shell.execute_reply": "2023-02-16T22:12:58.166229Z"
        },
        "id": "181222f5",
        "outputId": "a7296d35-aa4c-4513-f0cc-4a5905503229",
        "papermill": {
          "duration": 0.682108,
          "end_time": "2023-02-16T22:12:58.170145",
          "exception": false,
          "start_time": "2023-02-16T22:12:57.488037",
          "status": "completed"
        },
        "tags": []
      },
      "outputs": [
        {
          "name": "stderr",
          "output_type": "stream",
          "text": [
            "[nltk_data] Downloading package stopwords to /root/nltk_data...\n",
            "[nltk_data]   Package stopwords is already up-to-date!\n"
          ]
        }
      ],
      "source": [
        "import string\n",
        "import nltk\n",
        "\n",
        "nltk.download(\"stopwords\")\n",
        "from nltk.corpus import stopwords\n",
        "\n",
        "\n",
        "def text_process(mess):\n",
        "    \"\"\"\n",
        "    Takes in a string of text, then performs the following:\n",
        "    1. Remove all punctuation\n",
        "    2. Remove all stopwords\n",
        "    3. Returns a list of the cleaned text\n",
        "    \"\"\"\n",
        "    STOPWORDS = stopwords.words(\"english\") + [\n",
        "        \"u\",\n",
        "        \"ü\",\n",
        "        \"ur\",\n",
        "        \"4\",\n",
        "        \"2\",\n",
        "        \"im\",\n",
        "        \"dont\",\n",
        "        \"doin\",\n",
        "        \"ure\",\n",
        "    ]\n",
        "    # Check characters to see if they are in punctuation\n",
        "    nopunc = [char for char in mess if char not in string.punctuation]\n",
        "\n",
        "    # Join the characters again to form the string.\n",
        "    nopunc = \"\".join(nopunc)\n",
        "\n",
        "    # Now just remove any stopwords\n",
        "    return \" \".join([word for word in nopunc.split() if word.lower() not in STOPWORDS])"
      ]
    },
    {
      "cell_type": "code",
      "execution_count": null,
      "id": "cc7046fb",
      "metadata": {
        "colab": {
          "base_uri": "https://localhost:8080/"
        },
        "execution": {
          "iopub.execute_input": "2023-02-16T22:12:58.208015Z",
          "iopub.status.busy": "2023-02-16T22:12:58.207569Z",
          "iopub.status.idle": "2023-02-16T22:12:58.219710Z",
          "shell.execute_reply": "2023-02-16T22:12:58.218615Z"
        },
        "id": "cc7046fb",
        "outputId": "bce10076-7494-4441-e5bd-48cb66f260f7",
        "papermill": {
          "duration": 0.034002,
          "end_time": "2023-02-16T22:12:58.222128",
          "exception": false,
          "start_time": "2023-02-16T22:12:58.188126",
          "status": "completed"
        },
        "tags": []
      },
      "outputs": [
        {
          "data": {
            "text/html": [
              "\n",
              "  <div id=\"df-cf912c89-58c0-4d2d-b825-9f6ba60df493\">\n",
              "    <div class=\"colab-df-container\">\n",
              "      <div>\n",
              "<style scoped>\n",
              "    .dataframe tbody tr th:only-of-type {\n",
              "        vertical-align: middle;\n",
              "    }\n",
              "\n",
              "    .dataframe tbody tr th {\n",
              "        vertical-align: top;\n",
              "    }\n",
              "\n",
              "    .dataframe thead th {\n",
              "        text-align: right;\n",
              "    }\n",
              "</style>\n",
              "<table border=\"1\" class=\"dataframe\">\n",
              "  <thead>\n",
              "    <tr style=\"text-align: right;\">\n",
              "      <th></th>\n",
              "      <th>label</th>\n",
              "      <th>message</th>\n",
              "      <th>label_num</th>\n",
              "      <th>message_len</th>\n",
              "    </tr>\n",
              "  </thead>\n",
              "  <tbody>\n",
              "    <tr>\n",
              "      <th>0</th>\n",
              "      <td>ham</td>\n",
              "      <td>Go until jurong point, crazy.. Available only ...</td>\n",
              "      <td>0</td>\n",
              "      <td>111</td>\n",
              "    </tr>\n",
              "    <tr>\n",
              "      <th>1</th>\n",
              "      <td>ham</td>\n",
              "      <td>Ok lar... Joking wif u oni...</td>\n",
              "      <td>0</td>\n",
              "      <td>29</td>\n",
              "    </tr>\n",
              "    <tr>\n",
              "      <th>2</th>\n",
              "      <td>spam</td>\n",
              "      <td>Free entry in 2 a wkly comp to win FA Cup fina...</td>\n",
              "      <td>1</td>\n",
              "      <td>155</td>\n",
              "    </tr>\n",
              "    <tr>\n",
              "      <th>3</th>\n",
              "      <td>ham</td>\n",
              "      <td>U dun say so early hor... U c already then say...</td>\n",
              "      <td>0</td>\n",
              "      <td>49</td>\n",
              "    </tr>\n",
              "    <tr>\n",
              "      <th>4</th>\n",
              "      <td>ham</td>\n",
              "      <td>Nah I don't think he goes to usf, he lives aro...</td>\n",
              "      <td>0</td>\n",
              "      <td>61</td>\n",
              "    </tr>\n",
              "  </tbody>\n",
              "</table>\n",
              "</div>\n",
              "      <button class=\"colab-df-convert\" onclick=\"convertToInteractive('df-cf912c89-58c0-4d2d-b825-9f6ba60df493')\"\n",
              "              title=\"Convert this dataframe to an interactive table.\"\n",
              "              style=\"display:none;\">\n",
              "        \n",
              "  <svg xmlns=\"http://www.w3.org/2000/svg\" height=\"24px\"viewBox=\"0 0 24 24\"\n",
              "       width=\"24px\">\n",
              "    <path d=\"M0 0h24v24H0V0z\" fill=\"none\"/>\n",
              "    <path d=\"M18.56 5.44l.94 2.06.94-2.06 2.06-.94-2.06-.94-.94-2.06-.94 2.06-2.06.94zm-11 1L8.5 8.5l.94-2.06 2.06-.94-2.06-.94L8.5 2.5l-.94 2.06-2.06.94zm10 10l.94 2.06.94-2.06 2.06-.94-2.06-.94-.94-2.06-.94 2.06-2.06.94z\"/><path d=\"M17.41 7.96l-1.37-1.37c-.4-.4-.92-.59-1.43-.59-.52 0-1.04.2-1.43.59L10.3 9.45l-7.72 7.72c-.78.78-.78 2.05 0 2.83L4 21.41c.39.39.9.59 1.41.59.51 0 1.02-.2 1.41-.59l7.78-7.78 2.81-2.81c.8-.78.8-2.07 0-2.86zM5.41 20L4 18.59l7.72-7.72 1.47 1.35L5.41 20z\"/>\n",
              "  </svg>\n",
              "      </button>\n",
              "      \n",
              "  <style>\n",
              "    .colab-df-container {\n",
              "      display:flex;\n",
              "      flex-wrap:wrap;\n",
              "      gap: 12px;\n",
              "    }\n",
              "\n",
              "    .colab-df-convert {\n",
              "      background-color: #E8F0FE;\n",
              "      border: none;\n",
              "      border-radius: 50%;\n",
              "      cursor: pointer;\n",
              "      display: none;\n",
              "      fill: #1967D2;\n",
              "      height: 32px;\n",
              "      padding: 0 0 0 0;\n",
              "      width: 32px;\n",
              "    }\n",
              "\n",
              "    .colab-df-convert:hover {\n",
              "      background-color: #E2EBFA;\n",
              "      box-shadow: 0px 1px 2px rgba(60, 64, 67, 0.3), 0px 1px 3px 1px rgba(60, 64, 67, 0.15);\n",
              "      fill: #174EA6;\n",
              "    }\n",
              "\n",
              "    [theme=dark] .colab-df-convert {\n",
              "      background-color: #3B4455;\n",
              "      fill: #D2E3FC;\n",
              "    }\n",
              "\n",
              "    [theme=dark] .colab-df-convert:hover {\n",
              "      background-color: #434B5C;\n",
              "      box-shadow: 0px 1px 3px 1px rgba(0, 0, 0, 0.15);\n",
              "      filter: drop-shadow(0px 1px 2px rgba(0, 0, 0, 0.3));\n",
              "      fill: #FFFFFF;\n",
              "    }\n",
              "  </style>\n",
              "\n",
              "      <script>\n",
              "        const buttonEl =\n",
              "          document.querySelector('#df-cf912c89-58c0-4d2d-b825-9f6ba60df493 button.colab-df-convert');\n",
              "        buttonEl.style.display =\n",
              "          google.colab.kernel.accessAllowed ? 'block' : 'none';\n",
              "\n",
              "        async function convertToInteractive(key) {\n",
              "          const element = document.querySelector('#df-cf912c89-58c0-4d2d-b825-9f6ba60df493');\n",
              "          const dataTable =\n",
              "            await google.colab.kernel.invokeFunction('convertToInteractive',\n",
              "                                                     [key], {});\n",
              "          if (!dataTable) return;\n",
              "\n",
              "          const docLinkHtml = 'Like what you see? Visit the ' +\n",
              "            '<a target=\"_blank\" href=https://colab.research.google.com/notebooks/data_table.ipynb>data table notebook</a>'\n",
              "            + ' to learn more about interactive tables.';\n",
              "          element.innerHTML = '';\n",
              "          dataTable['output_type'] = 'display_data';\n",
              "          await google.colab.output.renderOutput(dataTable, element);\n",
              "          const docLink = document.createElement('div');\n",
              "          docLink.innerHTML = docLinkHtml;\n",
              "          element.appendChild(docLink);\n",
              "        }\n",
              "      </script>\n",
              "    </div>\n",
              "  </div>\n",
              "  "
            ],
            "text/plain": [
              "  label                                            message  label_num  \\\n",
              "0   ham  Go until jurong point, crazy.. Available only ...          0   \n",
              "1   ham                      Ok lar... Joking wif u oni...          0   \n",
              "2  spam  Free entry in 2 a wkly comp to win FA Cup fina...          1   \n",
              "3   ham  U dun say so early hor... U c already then say...          0   \n",
              "4   ham  Nah I don't think he goes to usf, he lives aro...          0   \n",
              "\n",
              "   message_len  \n",
              "0          111  \n",
              "1           29  \n",
              "2          155  \n",
              "3           49  \n",
              "4           61  "
            ]
          },
          "execution_count": 292,
          "metadata": {},
          "output_type": "execute_result"
        }
      ],
      "source": [
        "df.head()"
      ]
    },
    {
      "attachments": {},
      "cell_type": "markdown",
      "id": "7b314afa",
      "metadata": {
        "id": "7b314afa",
        "papermill": {
          "duration": 0.01797,
          "end_time": "2023-02-16T22:12:58.258141",
          "exception": false,
          "start_time": "2023-02-16T22:12:58.240171",
          "status": "completed"
        },
        "tags": []
      },
      "source": [
        "> Now let's \"tokenize\" these messages. Tokenization is just the term used to describe the process of converting the normal text strings in to a list of tokens (words that we actually want)."
      ]
    },
    {
      "cell_type": "code",
      "execution_count": null,
      "id": "fbbe1033",
      "metadata": {
        "colab": {
          "base_uri": "https://localhost:8080/"
        },
        "execution": {
          "iopub.execute_input": "2023-02-16T22:12:58.296864Z",
          "iopub.status.busy": "2023-02-16T22:12:58.296465Z",
          "iopub.status.idle": "2023-02-16T22:12:59.382560Z",
          "shell.execute_reply": "2023-02-16T22:12:59.381284Z"
        },
        "id": "fbbe1033",
        "outputId": "83cfdd7a-470b-46b0-9a40-b369e9ca5500",
        "papermill": {
          "duration": 1.109105,
          "end_time": "2023-02-16T22:12:59.385540",
          "exception": false,
          "start_time": "2023-02-16T22:12:58.276435",
          "status": "completed"
        },
        "tags": []
      },
      "outputs": [
        {
          "data": {
            "text/html": [
              "\n",
              "  <div id=\"df-2a65fb70-6874-4d3f-9404-d2b19bf8a143\">\n",
              "    <div class=\"colab-df-container\">\n",
              "      <div>\n",
              "<style scoped>\n",
              "    .dataframe tbody tr th:only-of-type {\n",
              "        vertical-align: middle;\n",
              "    }\n",
              "\n",
              "    .dataframe tbody tr th {\n",
              "        vertical-align: top;\n",
              "    }\n",
              "\n",
              "    .dataframe thead th {\n",
              "        text-align: right;\n",
              "    }\n",
              "</style>\n",
              "<table border=\"1\" class=\"dataframe\">\n",
              "  <thead>\n",
              "    <tr style=\"text-align: right;\">\n",
              "      <th></th>\n",
              "      <th>label</th>\n",
              "      <th>message</th>\n",
              "      <th>label_num</th>\n",
              "      <th>message_len</th>\n",
              "      <th>clean_msg</th>\n",
              "    </tr>\n",
              "  </thead>\n",
              "  <tbody>\n",
              "    <tr>\n",
              "      <th>0</th>\n",
              "      <td>ham</td>\n",
              "      <td>Go until jurong point, crazy.. Available only ...</td>\n",
              "      <td>0</td>\n",
              "      <td>111</td>\n",
              "      <td>Go jurong point crazy Available bugis n great ...</td>\n",
              "    </tr>\n",
              "    <tr>\n",
              "      <th>1</th>\n",
              "      <td>ham</td>\n",
              "      <td>Ok lar... Joking wif u oni...</td>\n",
              "      <td>0</td>\n",
              "      <td>29</td>\n",
              "      <td>Ok lar Joking wif oni</td>\n",
              "    </tr>\n",
              "    <tr>\n",
              "      <th>2</th>\n",
              "      <td>spam</td>\n",
              "      <td>Free entry in 2 a wkly comp to win FA Cup fina...</td>\n",
              "      <td>1</td>\n",
              "      <td>155</td>\n",
              "      <td>Free entry wkly comp win FA Cup final tkts 21s...</td>\n",
              "    </tr>\n",
              "    <tr>\n",
              "      <th>3</th>\n",
              "      <td>ham</td>\n",
              "      <td>U dun say so early hor... U c already then say...</td>\n",
              "      <td>0</td>\n",
              "      <td>49</td>\n",
              "      <td>dun say early hor c already say</td>\n",
              "    </tr>\n",
              "    <tr>\n",
              "      <th>4</th>\n",
              "      <td>ham</td>\n",
              "      <td>Nah I don't think he goes to usf, he lives aro...</td>\n",
              "      <td>0</td>\n",
              "      <td>61</td>\n",
              "      <td>Nah think goes usf lives around though</td>\n",
              "    </tr>\n",
              "  </tbody>\n",
              "</table>\n",
              "</div>\n",
              "      <button class=\"colab-df-convert\" onclick=\"convertToInteractive('df-2a65fb70-6874-4d3f-9404-d2b19bf8a143')\"\n",
              "              title=\"Convert this dataframe to an interactive table.\"\n",
              "              style=\"display:none;\">\n",
              "        \n",
              "  <svg xmlns=\"http://www.w3.org/2000/svg\" height=\"24px\"viewBox=\"0 0 24 24\"\n",
              "       width=\"24px\">\n",
              "    <path d=\"M0 0h24v24H0V0z\" fill=\"none\"/>\n",
              "    <path d=\"M18.56 5.44l.94 2.06.94-2.06 2.06-.94-2.06-.94-.94-2.06-.94 2.06-2.06.94zm-11 1L8.5 8.5l.94-2.06 2.06-.94-2.06-.94L8.5 2.5l-.94 2.06-2.06.94zm10 10l.94 2.06.94-2.06 2.06-.94-2.06-.94-.94-2.06-.94 2.06-2.06.94z\"/><path d=\"M17.41 7.96l-1.37-1.37c-.4-.4-.92-.59-1.43-.59-.52 0-1.04.2-1.43.59L10.3 9.45l-7.72 7.72c-.78.78-.78 2.05 0 2.83L4 21.41c.39.39.9.59 1.41.59.51 0 1.02-.2 1.41-.59l7.78-7.78 2.81-2.81c.8-.78.8-2.07 0-2.86zM5.41 20L4 18.59l7.72-7.72 1.47 1.35L5.41 20z\"/>\n",
              "  </svg>\n",
              "      </button>\n",
              "      \n",
              "  <style>\n",
              "    .colab-df-container {\n",
              "      display:flex;\n",
              "      flex-wrap:wrap;\n",
              "      gap: 12px;\n",
              "    }\n",
              "\n",
              "    .colab-df-convert {\n",
              "      background-color: #E8F0FE;\n",
              "      border: none;\n",
              "      border-radius: 50%;\n",
              "      cursor: pointer;\n",
              "      display: none;\n",
              "      fill: #1967D2;\n",
              "      height: 32px;\n",
              "      padding: 0 0 0 0;\n",
              "      width: 32px;\n",
              "    }\n",
              "\n",
              "    .colab-df-convert:hover {\n",
              "      background-color: #E2EBFA;\n",
              "      box-shadow: 0px 1px 2px rgba(60, 64, 67, 0.3), 0px 1px 3px 1px rgba(60, 64, 67, 0.15);\n",
              "      fill: #174EA6;\n",
              "    }\n",
              "\n",
              "    [theme=dark] .colab-df-convert {\n",
              "      background-color: #3B4455;\n",
              "      fill: #D2E3FC;\n",
              "    }\n",
              "\n",
              "    [theme=dark] .colab-df-convert:hover {\n",
              "      background-color: #434B5C;\n",
              "      box-shadow: 0px 1px 3px 1px rgba(0, 0, 0, 0.15);\n",
              "      filter: drop-shadow(0px 1px 2px rgba(0, 0, 0, 0.3));\n",
              "      fill: #FFFFFF;\n",
              "    }\n",
              "  </style>\n",
              "\n",
              "      <script>\n",
              "        const buttonEl =\n",
              "          document.querySelector('#df-2a65fb70-6874-4d3f-9404-d2b19bf8a143 button.colab-df-convert');\n",
              "        buttonEl.style.display =\n",
              "          google.colab.kernel.accessAllowed ? 'block' : 'none';\n",
              "\n",
              "        async function convertToInteractive(key) {\n",
              "          const element = document.querySelector('#df-2a65fb70-6874-4d3f-9404-d2b19bf8a143');\n",
              "          const dataTable =\n",
              "            await google.colab.kernel.invokeFunction('convertToInteractive',\n",
              "                                                     [key], {});\n",
              "          if (!dataTable) return;\n",
              "\n",
              "          const docLinkHtml = 'Like what you see? Visit the ' +\n",
              "            '<a target=\"_blank\" href=https://colab.research.google.com/notebooks/data_table.ipynb>data table notebook</a>'\n",
              "            + ' to learn more about interactive tables.';\n",
              "          element.innerHTML = '';\n",
              "          dataTable['output_type'] = 'display_data';\n",
              "          await google.colab.output.renderOutput(dataTable, element);\n",
              "          const docLink = document.createElement('div');\n",
              "          docLink.innerHTML = docLinkHtml;\n",
              "          element.appendChild(docLink);\n",
              "        }\n",
              "      </script>\n",
              "    </div>\n",
              "  </div>\n",
              "  "
            ],
            "text/plain": [
              "  label                                            message  label_num  \\\n",
              "0   ham  Go until jurong point, crazy.. Available only ...          0   \n",
              "1   ham                      Ok lar... Joking wif u oni...          0   \n",
              "2  spam  Free entry in 2 a wkly comp to win FA Cup fina...          1   \n",
              "3   ham  U dun say so early hor... U c already then say...          0   \n",
              "4   ham  Nah I don't think he goes to usf, he lives aro...          0   \n",
              "\n",
              "   message_len                                          clean_msg  \n",
              "0          111  Go jurong point crazy Available bugis n great ...  \n",
              "1           29                              Ok lar Joking wif oni  \n",
              "2          155  Free entry wkly comp win FA Cup final tkts 21s...  \n",
              "3           49                    dun say early hor c already say  \n",
              "4           61             Nah think goes usf lives around though  "
            ]
          },
          "execution_count": 293,
          "metadata": {},
          "output_type": "execute_result"
        }
      ],
      "source": [
        "df[\"clean_msg\"] = df.message.apply(text_process)\n",
        "\n",
        "df.head()"
      ]
    },
    {
      "cell_type": "code",
      "execution_count": null,
      "id": "42288c44",
      "metadata": {
        "colab": {
          "base_uri": "https://localhost:8080/"
        },
        "execution": {
          "iopub.execute_input": "2023-02-16T22:12:59.425866Z",
          "iopub.status.busy": "2023-02-16T22:12:59.425420Z",
          "iopub.status.idle": "2023-02-16T22:12:59.433868Z",
          "shell.execute_reply": "2023-02-16T22:12:59.432927Z"
        },
        "id": "42288c44",
        "outputId": "a4295809-49d0-4904-e581-6a3bef72760b",
        "papermill": {
          "duration": 0.03138,
          "end_time": "2023-02-16T22:12:59.435994",
          "exception": false,
          "start_time": "2023-02-16T22:12:59.404614",
          "status": "completed"
        },
        "tags": []
      },
      "outputs": [
        {
          "data": {
            "text/plain": [
              "list"
            ]
          },
          "execution_count": 294,
          "metadata": {},
          "output_type": "execute_result"
        }
      ],
      "source": [
        "type(stopwords.words(\"english\"))"
      ]
    },
    {
      "cell_type": "code",
      "execution_count": null,
      "id": "ee82a1c5",
      "metadata": {
        "colab": {
          "base_uri": "https://localhost:8080/"
        },
        "execution": {
          "iopub.execute_input": "2023-02-16T22:12:59.475459Z",
          "iopub.status.busy": "2023-02-16T22:12:59.474552Z",
          "iopub.status.idle": "2023-02-16T22:12:59.518143Z",
          "shell.execute_reply": "2023-02-16T22:12:59.516921Z"
        },
        "id": "ee82a1c5",
        "outputId": "fc48cc62-97ab-4d3d-ad8b-ccef996c4579",
        "papermill": {
          "duration": 0.065866,
          "end_time": "2023-02-16T22:12:59.520478",
          "exception": false,
          "start_time": "2023-02-16T22:12:59.454612",
          "status": "completed"
        },
        "tags": []
      },
      "outputs": [
        {
          "name": "stdout",
          "output_type": "stream",
          "text": [
            "[('get', 307), ('ltgt', 276), ('ok', 273), ('go', 249), ('know', 239), ('got', 237), ('ill', 237), ('like', 236), ('call', 229), ('good', 227), ('come', 225), ('time', 192), ('day', 191), ('love', 186), ('going', 170), ('want', 167), ('one', 165), ('home', 160), ('lor', 160), ('need', 157), ('sorry', 153), ('still', 148), ('see', 139), ('later', 135), ('n', 134), ('r', 132), ('think', 131), ('da', 131), ('today', 130), ('back', 130), ('well', 129), ('send', 123), ('tell', 121), ('cant', 119), ('hi', 118), ('ì', 117), ('much', 116), ('take', 112), ('oh', 112), ('hey', 108), ('great', 107), ('night', 107), ('happy', 106), ('way', 104), ('work', 103), ('thats', 101), ('hope', 100), ('pls', 98), ('say', 96), ('wat', 95)]\n"
          ]
        }
      ],
      "source": [
        "from collections import Counter\n",
        "\n",
        "words = df[df.label == \"ham\"].clean_msg.apply(\n",
        "    lambda x: [word.lower() for word in x.split()]\n",
        ")\n",
        "ham_words = Counter()\n",
        "\n",
        "for msg in words:\n",
        "    ham_words.update(msg)\n",
        "\n",
        "print(ham_words.most_common(50))"
      ]
    },
    {
      "cell_type": "code",
      "execution_count": null,
      "id": "5051c011",
      "metadata": {
        "colab": {
          "base_uri": "https://localhost:8080/"
        },
        "execution": {
          "iopub.execute_input": "2023-02-16T22:12:59.560199Z",
          "iopub.status.busy": "2023-02-16T22:12:59.559752Z",
          "iopub.status.idle": "2023-02-16T22:12:59.578898Z",
          "shell.execute_reply": "2023-02-16T22:12:59.577584Z"
        },
        "id": "5051c011",
        "outputId": "644e81e3-5aa0-4ee3-83a4-1396c1ebb003",
        "papermill": {
          "duration": 0.042129,
          "end_time": "2023-02-16T22:12:59.581504",
          "exception": false,
          "start_time": "2023-02-16T22:12:59.539375",
          "status": "completed"
        },
        "tags": []
      },
      "outputs": [
        {
          "name": "stdout",
          "output_type": "stream",
          "text": [
            "[('call', 394), ('free', 277), ('txt', 170), ('mobile', 143), ('claim', 135), ('text', 133), ('stop', 124), ('reply', 118), ('prize', 110), ('get', 95), ('new', 80), ('send', 73), ('win', 71), ('cash', 71), ('nokia', 70), ('service', 70), ('contact', 66), ('urgent', 65), ('customer', 62), ('please', 62), ('guaranteed', 60), ('week', 54), ('16', 53), ('per', 52), ('tone', 52), ('phone', 50), ('18', 49), ('draw', 45), ('awarded', 44), ('chat', 44), ('latest', 40), ('mins', 40), ('message', 39), ('receive', 38), ('code', 38), ('camera', 38), ('1', 38), ('go', 37), ('line', 37), ('shows', 36), ('150ppm', 36), ('holiday', 36), ('landline', 36), ('å£1000', 35), ('number', 35), ('every', 35), ('ringtone', 34), ('po', 34), ('box', 34), ('selected', 33)]\n"
          ]
        }
      ],
      "source": [
        "words = df[df.label == \"spam\"].clean_msg.apply(\n",
        "    lambda x: [word.lower() for word in x.split()]\n",
        ")\n",
        "spam_words = Counter()\n",
        "\n",
        "for msg in words:\n",
        "    spam_words.update(msg)\n",
        "\n",
        "print(spam_words.most_common(50))"
      ]
    },
    {
      "cell_type": "code",
      "execution_count": null,
      "id": "VFmQZAKO24eh",
      "metadata": {
        "id": "VFmQZAKO24eh"
      },
      "outputs": [],
      "source": []
    },
    {
      "attachments": {},
      "cell_type": "markdown",
      "id": "jSLVx3FD3LmP",
      "metadata": {
        "id": "jSLVx3FD3LmP"
      },
      "source": [
        "# Splitting between SMS and discord data"
      ]
    },
    {
      "cell_type": "code",
      "execution_count": null,
      "id": "pvwKKlIF3Q3i",
      "metadata": {
        "id": "pvwKKlIF3Q3i"
      },
      "outputs": [],
      "source": [
        "# split data again after preprocessing\n",
        "sms_df = df.head(sms_data_count)\n",
        "discord_df = df.tail(discord_data_count)"
      ]
    },
    {
      "cell_type": "code",
      "execution_count": null,
      "id": "2yMF2aAV7Fv2",
      "metadata": {
        "colab": {
          "base_uri": "https://localhost:8080/"
        },
        "id": "2yMF2aAV7Fv2",
        "outputId": "ff4bae22-98f2-42ad-a1fc-9d829dcd3c29"
      },
      "outputs": [
        {
          "data": {
            "text/html": [
              "\n",
              "  <div id=\"df-bd630ac5-4c91-45cb-ad59-1a11d1b440d9\">\n",
              "    <div class=\"colab-df-container\">\n",
              "      <div>\n",
              "<style scoped>\n",
              "    .dataframe tbody tr th:only-of-type {\n",
              "        vertical-align: middle;\n",
              "    }\n",
              "\n",
              "    .dataframe tbody tr th {\n",
              "        vertical-align: top;\n",
              "    }\n",
              "\n",
              "    .dataframe thead th {\n",
              "        text-align: right;\n",
              "    }\n",
              "</style>\n",
              "<table border=\"1\" class=\"dataframe\">\n",
              "  <thead>\n",
              "    <tr style=\"text-align: right;\">\n",
              "      <th></th>\n",
              "      <th>label</th>\n",
              "      <th>message</th>\n",
              "      <th>label_num</th>\n",
              "      <th>message_len</th>\n",
              "      <th>clean_msg</th>\n",
              "    </tr>\n",
              "  </thead>\n",
              "  <tbody>\n",
              "    <tr>\n",
              "      <th>0</th>\n",
              "      <td>spam</td>\n",
              "      <td>\"take nitro faster, its gonna begone now http...</td>\n",
              "      <td>1</td>\n",
              "      <td>81</td>\n",
              "      <td>take nitro faster gonna begone httpsdiscordngi...</td>\n",
              "    </tr>\n",
              "    <tr>\n",
              "      <th>1</th>\n",
              "      <td>spam</td>\n",
              "      <td>please join my awesome discord server which i...</td>\n",
              "      <td>1</td>\n",
              "      <td>96</td>\n",
              "      <td>please join awesome discord server better one ...</td>\n",
              "    </tr>\n",
              "    <tr>\n",
              "      <th>2</th>\n",
              "      <td>spam</td>\n",
              "      <td>\"if you join the discrord server https://disc...</td>\n",
              "      <td>1</td>\n",
              "      <td>93</td>\n",
              "      <td>join discrord server httpsdiscordggda8KgGwb ge...</td>\n",
              "    </tr>\n",
              "    <tr>\n",
              "      <th>3</th>\n",
              "      <td>spam</td>\n",
              "      <td>\"hello, anyone interested in starting a new b...</td>\n",
              "      <td>1</td>\n",
              "      <td>131</td>\n",
              "      <td>hello anyone interested starting new business ...</td>\n",
              "    </tr>\n",
              "    <tr>\n",
              "      <th>4</th>\n",
              "      <td>spam</td>\n",
              "      <td>\"I have free nitro for you guys  just click t...</td>\n",
              "      <td>1</td>\n",
              "      <td>114</td>\n",
              "      <td>free nitro guys click link httpsdiscordngiftAc...</td>\n",
              "    </tr>\n",
              "  </tbody>\n",
              "</table>\n",
              "</div>\n",
              "      <button class=\"colab-df-convert\" onclick=\"convertToInteractive('df-bd630ac5-4c91-45cb-ad59-1a11d1b440d9')\"\n",
              "              title=\"Convert this dataframe to an interactive table.\"\n",
              "              style=\"display:none;\">\n",
              "        \n",
              "  <svg xmlns=\"http://www.w3.org/2000/svg\" height=\"24px\"viewBox=\"0 0 24 24\"\n",
              "       width=\"24px\">\n",
              "    <path d=\"M0 0h24v24H0V0z\" fill=\"none\"/>\n",
              "    <path d=\"M18.56 5.44l.94 2.06.94-2.06 2.06-.94-2.06-.94-.94-2.06-.94 2.06-2.06.94zm-11 1L8.5 8.5l.94-2.06 2.06-.94-2.06-.94L8.5 2.5l-.94 2.06-2.06.94zm10 10l.94 2.06.94-2.06 2.06-.94-2.06-.94-.94-2.06-.94 2.06-2.06.94z\"/><path d=\"M17.41 7.96l-1.37-1.37c-.4-.4-.92-.59-1.43-.59-.52 0-1.04.2-1.43.59L10.3 9.45l-7.72 7.72c-.78.78-.78 2.05 0 2.83L4 21.41c.39.39.9.59 1.41.59.51 0 1.02-.2 1.41-.59l7.78-7.78 2.81-2.81c.8-.78.8-2.07 0-2.86zM5.41 20L4 18.59l7.72-7.72 1.47 1.35L5.41 20z\"/>\n",
              "  </svg>\n",
              "      </button>\n",
              "      \n",
              "  <style>\n",
              "    .colab-df-container {\n",
              "      display:flex;\n",
              "      flex-wrap:wrap;\n",
              "      gap: 12px;\n",
              "    }\n",
              "\n",
              "    .colab-df-convert {\n",
              "      background-color: #E8F0FE;\n",
              "      border: none;\n",
              "      border-radius: 50%;\n",
              "      cursor: pointer;\n",
              "      display: none;\n",
              "      fill: #1967D2;\n",
              "      height: 32px;\n",
              "      padding: 0 0 0 0;\n",
              "      width: 32px;\n",
              "    }\n",
              "\n",
              "    .colab-df-convert:hover {\n",
              "      background-color: #E2EBFA;\n",
              "      box-shadow: 0px 1px 2px rgba(60, 64, 67, 0.3), 0px 1px 3px 1px rgba(60, 64, 67, 0.15);\n",
              "      fill: #174EA6;\n",
              "    }\n",
              "\n",
              "    [theme=dark] .colab-df-convert {\n",
              "      background-color: #3B4455;\n",
              "      fill: #D2E3FC;\n",
              "    }\n",
              "\n",
              "    [theme=dark] .colab-df-convert:hover {\n",
              "      background-color: #434B5C;\n",
              "      box-shadow: 0px 1px 3px 1px rgba(0, 0, 0, 0.15);\n",
              "      filter: drop-shadow(0px 1px 2px rgba(0, 0, 0, 0.3));\n",
              "      fill: #FFFFFF;\n",
              "    }\n",
              "  </style>\n",
              "\n",
              "      <script>\n",
              "        const buttonEl =\n",
              "          document.querySelector('#df-bd630ac5-4c91-45cb-ad59-1a11d1b440d9 button.colab-df-convert');\n",
              "        buttonEl.style.display =\n",
              "          google.colab.kernel.accessAllowed ? 'block' : 'none';\n",
              "\n",
              "        async function convertToInteractive(key) {\n",
              "          const element = document.querySelector('#df-bd630ac5-4c91-45cb-ad59-1a11d1b440d9');\n",
              "          const dataTable =\n",
              "            await google.colab.kernel.invokeFunction('convertToInteractive',\n",
              "                                                     [key], {});\n",
              "          if (!dataTable) return;\n",
              "\n",
              "          const docLinkHtml = 'Like what you see? Visit the ' +\n",
              "            '<a target=\"_blank\" href=https://colab.research.google.com/notebooks/data_table.ipynb>data table notebook</a>'\n",
              "            + ' to learn more about interactive tables.';\n",
              "          element.innerHTML = '';\n",
              "          dataTable['output_type'] = 'display_data';\n",
              "          await google.colab.output.renderOutput(dataTable, element);\n",
              "          const docLink = document.createElement('div');\n",
              "          docLink.innerHTML = docLinkHtml;\n",
              "          element.appendChild(docLink);\n",
              "        }\n",
              "      </script>\n",
              "    </div>\n",
              "  </div>\n",
              "  "
            ],
            "text/plain": [
              "  label                                            message  label_num  \\\n",
              "0  spam   \"take nitro faster, its gonna begone now http...          1   \n",
              "1  spam   please join my awesome discord server which i...          1   \n",
              "2  spam   \"if you join the discrord server https://disc...          1   \n",
              "3  spam   \"hello, anyone interested in starting a new b...          1   \n",
              "4  spam   \"I have free nitro for you guys  just click t...          1   \n",
              "\n",
              "   message_len                                          clean_msg  \n",
              "0           81  take nitro faster gonna begone httpsdiscordngi...  \n",
              "1           96  please join awesome discord server better one ...  \n",
              "2           93  join discrord server httpsdiscordggda8KgGwb ge...  \n",
              "3          131  hello anyone interested starting new business ...  \n",
              "4          114  free nitro guys click link httpsdiscordngiftAc...  "
            ]
          },
          "execution_count": 298,
          "metadata": {},
          "output_type": "execute_result"
        }
      ],
      "source": [
        "discord_df.head()"
      ]
    },
    {
      "attachments": {},
      "cell_type": "markdown",
      "id": "f948a56c",
      "metadata": {
        "id": "f948a56c",
        "papermill": {
          "duration": 0.019118,
          "end_time": "2023-02-16T22:12:59.619536",
          "exception": false,
          "start_time": "2023-02-16T22:12:59.600418",
          "status": "completed"
        },
        "tags": []
      },
      "source": [
        "# 🧮 Vectorization\n"
      ]
    },
    {
      "cell_type": "code",
      "execution_count": null,
      "id": "63b33667",
      "metadata": {
        "colab": {
          "base_uri": "https://localhost:8080/"
        },
        "execution": {
          "iopub.execute_input": "2023-02-16T22:12:59.658981Z",
          "iopub.status.busy": "2023-02-16T22:12:59.658525Z",
          "iopub.status.idle": "2023-02-16T22:12:59.670509Z",
          "shell.execute_reply": "2023-02-16T22:12:59.669471Z"
        },
        "id": "63b33667",
        "outputId": "9da3f251-fe52-45bb-ebe3-ec489dd792dd",
        "papermill": {
          "duration": 0.03499,
          "end_time": "2023-02-16T22:12:59.673230",
          "exception": false,
          "start_time": "2023-02-16T22:12:59.638240",
          "status": "completed"
        },
        "tags": []
      },
      "outputs": [
        {
          "name": "stdout",
          "output_type": "stream",
          "text": [
            "(5572,)\n",
            "(5572,)\n",
            "(4457,)\n",
            "(1115,)\n",
            "(4457,)\n",
            "(1115,)\n"
          ]
        }
      ],
      "source": [
        "# split X and y into training and testing sets\n",
        "from sklearn.model_selection import train_test_split\n",
        "\n",
        "# how to define X and y (from the SMS data) for use with COUNTVECTORIZER\n",
        "X = sms_df.clean_msg\n",
        "y = sms_df.label_num\n",
        "print(X.shape)\n",
        "print(y.shape)\n",
        "\n",
        "X_train, X_test, y_train, y_test = train_test_split(X, y, random_state=1, test_size=0.2)\n",
        "\n",
        "print(X_train.shape)\n",
        "print(X_test.shape)\n",
        "print(y_train.shape)\n",
        "print(y_test.shape)"
      ]
    },
    {
      "cell_type": "code",
      "execution_count": null,
      "id": "A7F_8c4Jc1gW",
      "metadata": {
        "colab": {
          "base_uri": "https://localhost:8080/"
        },
        "id": "A7F_8c4Jc1gW",
        "outputId": "5ea9c6b4-2b01-4df1-8f1a-d677e459b179"
      },
      "outputs": [
        {
          "name": "stdout",
          "output_type": "stream",
          "text": [
            "<class 'pandas.core.series.Series'>\n",
            "Convey regards\n",
            "Û anyway many good evenings\n"
          ]
        }
      ],
      "source": [
        "print(type(X_test))\n",
        "print(X_test.iloc[0])\n",
        "print(X_test.iloc[1])"
      ]
    },
    {
      "cell_type": "code",
      "execution_count": null,
      "id": "0cd9ed9e",
      "metadata": {
        "execution": {
          "iopub.execute_input": "2023-02-16T22:12:59.750917Z",
          "iopub.status.busy": "2023-02-16T22:12:59.750495Z",
          "iopub.status.idle": "2023-02-16T22:12:59.941257Z",
          "shell.execute_reply": "2023-02-16T22:12:59.939871Z"
        },
        "id": "0cd9ed9e",
        "papermill": {
          "duration": 0.215048,
          "end_time": "2023-02-16T22:12:59.944594",
          "exception": false,
          "start_time": "2023-02-16T22:12:59.729546",
          "status": "completed"
        },
        "tags": []
      },
      "outputs": [],
      "source": [
        "from sklearn.feature_extraction.text import CountVectorizer\n",
        "\n",
        "# instantiate the vectorizer\n",
        "vect = CountVectorizer()\n",
        "vect.fit(X_train)\n",
        "\n",
        "# learn training data vocabulary, then use it to create a document-term matrix\n",
        "X_train_dtm = vect.transform(X_train)\n",
        "\n",
        "# equivalently: combine fit and transform into a single step\n",
        "X_train_dtm = vect.fit_transform(X_train)\n",
        "\n",
        "\n",
        "# examine the document-term matrix\n",
        "print(type(X_train_dtm), X_train_dtm.shape)\n",
        "\n",
        "# transform testing data (using fitted vocabulary) into a document-term matrix\n",
        "X_test_dtm = vect.transform(X_test)\n",
        "print(type(X_test_dtm), X_test_dtm.shape)"
      ]
    },
    {
      "cell_type": "code",
      "execution_count": null,
      "id": "r3z1k1ydewOo",
      "metadata": {
        "id": "r3z1k1ydewOo"
      },
      "outputs": [],
      "source": [
        "from joblib import dump, load\n",
        "\n",
        "dump(vect, \"vect.joblib\")"
      ]
    },
    {
      "cell_type": "code",
      "execution_count": null,
      "id": "hMIB-Wz8ZfJa",
      "metadata": {
        "id": "hMIB-Wz8ZfJa"
      },
      "outputs": [],
      "source": [
        "print(type(X_train))\n",
        "print(X_train.iloc[0])\n",
        "print(X_train.iloc[1])\n",
        "print(X_train.iloc[2])\n",
        "print(X_train.iloc[3])"
      ]
    },
    {
      "cell_type": "code",
      "execution_count": null,
      "id": "9fa1f75e",
      "metadata": {
        "execution": {
          "iopub.execute_input": "2023-02-16T22:12:59.985899Z",
          "iopub.status.busy": "2023-02-16T22:12:59.985498Z",
          "iopub.status.idle": "2023-02-16T22:13:00.001587Z",
          "shell.execute_reply": "2023-02-16T22:13:00.000185Z"
        },
        "id": "9fa1f75e",
        "papermill": {
          "duration": 0.039986,
          "end_time": "2023-02-16T22:13:00.004419",
          "exception": false,
          "start_time": "2023-02-16T22:12:59.964433",
          "status": "completed"
        },
        "tags": []
      },
      "outputs": [],
      "source": [
        "from sklearn.feature_extraction.text import TfidfTransformer\n",
        "\n",
        "tfidf_transformer = TfidfTransformer()\n",
        "tfidf_transformer.fit(X_train_dtm)\n",
        "tfidf_transformer.transform(X_train_dtm)"
      ]
    },
    {
      "attachments": {},
      "cell_type": "markdown",
      "id": "5889608f",
      "metadata": {
        "id": "5889608f",
        "papermill": {
          "duration": 0.019406,
          "end_time": "2023-02-16T22:13:00.043116",
          "exception": false,
          "start_time": "2023-02-16T22:13:00.023710",
          "status": "completed"
        },
        "tags": []
      },
      "source": [
        "# Building and evaluating models"
      ]
    },
    {
      "attachments": {},
      "cell_type": "markdown",
      "id": "ad62bc88",
      "metadata": {},
      "source": [
        "## Multinomial NB"
      ]
    },
    {
      "cell_type": "code",
      "execution_count": null,
      "id": "4c71b460",
      "metadata": {
        "execution": {
          "iopub.execute_input": "2023-02-16T22:13:00.085470Z",
          "iopub.status.busy": "2023-02-16T22:13:00.084995Z",
          "iopub.status.idle": "2023-02-16T22:13:00.093021Z",
          "shell.execute_reply": "2023-02-16T22:13:00.091753Z"
        },
        "id": "4c71b460",
        "papermill": {
          "duration": 0.032552,
          "end_time": "2023-02-16T22:13:00.095683",
          "exception": false,
          "start_time": "2023-02-16T22:13:00.063131",
          "status": "completed"
        },
        "tags": []
      },
      "outputs": [],
      "source": [
        "# import and instantiate a Multinomial Naive Bayes model\n",
        "from sklearn.naive_bayes import MultinomialNB\n",
        "\n",
        "nb = MultinomialNB()"
      ]
    },
    {
      "cell_type": "code",
      "execution_count": null,
      "id": "05a2e07d",
      "metadata": {
        "execution": {
          "iopub.execute_input": "2023-02-16T22:13:00.135604Z",
          "iopub.status.busy": "2023-02-16T22:13:00.135179Z",
          "iopub.status.idle": "2023-02-16T22:13:00.150227Z",
          "shell.execute_reply": "2023-02-16T22:13:00.148657Z"
        },
        "id": "05a2e07d",
        "papermill": {
          "duration": 0.038182,
          "end_time": "2023-02-16T22:13:00.153134",
          "exception": false,
          "start_time": "2023-02-16T22:13:00.114952",
          "status": "completed"
        },
        "tags": []
      },
      "outputs": [],
      "source": [
        "# train the model using X_train_dtm (timing it with an IPython \"magic command\")\n",
        "%time nb.fit(X_train_dtm, y_train)"
      ]
    },
    {
      "cell_type": "code",
      "execution_count": null,
      "id": "50e292d9",
      "metadata": {
        "execution": {
          "iopub.execute_input": "2023-02-16T22:13:00.193145Z",
          "iopub.status.busy": "2023-02-16T22:13:00.192721Z",
          "iopub.status.idle": "2023-02-16T22:13:00.205150Z",
          "shell.execute_reply": "2023-02-16T22:13:00.203829Z"
        },
        "id": "50e292d9",
        "papermill": {
          "duration": 0.035256,
          "end_time": "2023-02-16T22:13:00.207441",
          "exception": false,
          "start_time": "2023-02-16T22:13:00.172185",
          "status": "completed"
        },
        "tags": []
      },
      "outputs": [],
      "source": [
        "from sklearn import metrics\n",
        "\n",
        "# make class predictions for X_test_dtm\n",
        "y_pred_class = nb.predict(X_test_dtm)\n",
        "\n",
        "# calculate accuracy of class predictions\n",
        "print(\"=======Accuracy Score===========\")\n",
        "print(metrics.accuracy_score(y_test, y_pred_class))\n",
        "\n",
        "# print the confusion matrix\n",
        "print(\"=======Confision Matrix===========\")\n",
        "metrics.confusion_matrix(y_test, y_pred_class)"
      ]
    },
    {
      "attachments": {},
      "cell_type": "markdown",
      "id": "bcf0db09",
      "metadata": {},
      "source": [
        "## Random Forest\n",
        "from sklearn.ensemble import RandomForestClassifier"
      ]
    },
    {
      "cell_type": "code",
      "execution_count": null,
      "id": "52a6e83d",
      "metadata": {},
      "outputs": [],
      "source": [
        "from sklearn.ensemble import RandomForestClassifier\n",
        "\n",
        "randomForestClassifier = RandomForestClassifier()\n",
        "\n",
        "# make class predictions for X_test_dtm\n",
        "y_pred_class = randomForestClassifier.predict(X_test_dtm)\n",
        "\n",
        "# calculate accuracy of class predictions\n",
        "print(\"=======Accuracy Score===========\")\n",
        "print(metrics.accuracy_score(y_test, y_pred_class))\n",
        "\n",
        "# print the confusion matrix\n",
        "print(\"=======Confision Matrix===========\")\n",
        "metrics.confusion_matrix(y_test, y_pred_class)\n"
      ]
    },
    {
      "attachments": {},
      "cell_type": "markdown",
      "id": "282399cb",
      "metadata": {},
      "source": [
        "# other things"
      ]
    },
    {
      "cell_type": "code",
      "execution_count": null,
      "id": "4fea51cb",
      "metadata": {
        "execution": {
          "iopub.execute_input": "2023-02-16T22:13:00.249659Z",
          "iopub.status.busy": "2023-02-16T22:13:00.249243Z",
          "iopub.status.idle": "2023-02-16T22:13:00.258808Z",
          "shell.execute_reply": "2023-02-16T22:13:00.257552Z"
        },
        "id": "4fea51cb",
        "papermill": {
          "duration": 0.033557,
          "end_time": "2023-02-16T22:13:00.261184",
          "exception": false,
          "start_time": "2023-02-16T22:13:00.227627",
          "status": "completed"
        },
        "tags": []
      },
      "outputs": [],
      "source": [
        "# print message text for false positives (ham incorrectly classifier)\n",
        "# X_test[(y_pred_class==1) & (y_test==0)]\n",
        "X_test[y_pred_class > y_test]"
      ]
    },
    {
      "cell_type": "code",
      "execution_count": null,
      "id": "9a6dc145",
      "metadata": {
        "execution": {
          "iopub.execute_input": "2023-02-16T22:13:00.302077Z",
          "iopub.status.busy": "2023-02-16T22:13:00.301629Z",
          "iopub.status.idle": "2023-02-16T22:13:00.311296Z",
          "shell.execute_reply": "2023-02-16T22:13:00.310123Z"
        },
        "id": "9a6dc145",
        "papermill": {
          "duration": 0.032884,
          "end_time": "2023-02-16T22:13:00.313745",
          "exception": false,
          "start_time": "2023-02-16T22:13:00.280861",
          "status": "completed"
        },
        "tags": []
      },
      "outputs": [],
      "source": [
        "# print message text for false negatives (spam incorrectly classifier)\n",
        "X_test[y_pred_class < y_test]"
      ]
    },
    {
      "cell_type": "code",
      "execution_count": null,
      "id": "487852ba",
      "metadata": {
        "execution": {
          "iopub.execute_input": "2023-02-16T22:13:00.354921Z",
          "iopub.status.busy": "2023-02-16T22:13:00.354523Z",
          "iopub.status.idle": "2023-02-16T22:13:00.361190Z",
          "shell.execute_reply": "2023-02-16T22:13:00.359949Z"
        },
        "id": "487852ba",
        "papermill": {
          "duration": 0.030249,
          "end_time": "2023-02-16T22:13:00.363479",
          "exception": false,
          "start_time": "2023-02-16T22:13:00.333230",
          "status": "completed"
        },
        "tags": []
      },
      "outputs": [],
      "source": []
    },
    {
      "cell_type": "code",
      "execution_count": null,
      "id": "b16b84f8",
      "metadata": {
        "execution": {
          "iopub.execute_input": "2023-02-16T22:13:00.404882Z",
          "iopub.status.busy": "2023-02-16T22:13:00.404476Z",
          "iopub.status.idle": "2023-02-16T22:13:00.413380Z",
          "shell.execute_reply": "2023-02-16T22:13:00.412173Z"
        },
        "id": "b16b84f8",
        "papermill": {
          "duration": 0.032687,
          "end_time": "2023-02-16T22:13:00.415619",
          "exception": false,
          "start_time": "2023-02-16T22:13:00.382932",
          "status": "completed"
        },
        "tags": []
      },
      "outputs": [],
      "source": [
        "# calculate predicted probabilities for X_test_dtm (poorly calibrated)\n",
        "y_pred_prob = nb.predict_proba(X_test_dtm)[:, 1]\n",
        "y_pred_prob"
      ]
    },
    {
      "cell_type": "code",
      "execution_count": null,
      "id": "f8b42534",
      "metadata": {
        "execution": {
          "iopub.execute_input": "2023-02-16T22:13:00.457385Z",
          "iopub.status.busy": "2023-02-16T22:13:00.456955Z",
          "iopub.status.idle": "2023-02-16T22:13:00.468180Z",
          "shell.execute_reply": "2023-02-16T22:13:00.467056Z"
        },
        "id": "f8b42534",
        "papermill": {
          "duration": 0.035106,
          "end_time": "2023-02-16T22:13:00.470597",
          "exception": false,
          "start_time": "2023-02-16T22:13:00.435491",
          "status": "completed"
        },
        "tags": []
      },
      "outputs": [],
      "source": [
        "# calculate AUC\n",
        "metrics.roc_auc_score(y_test, y_pred_prob)"
      ]
    },
    {
      "cell_type": "code",
      "execution_count": null,
      "id": "76bac208",
      "metadata": {
        "execution": {
          "iopub.execute_input": "2023-02-16T22:13:00.512698Z",
          "iopub.status.busy": "2023-02-16T22:13:00.512267Z",
          "iopub.status.idle": "2023-02-16T22:13:00.612825Z",
          "shell.execute_reply": "2023-02-16T22:13:00.611460Z"
        },
        "id": "76bac208",
        "papermill": {
          "duration": 0.125448,
          "end_time": "2023-02-16T22:13:00.615922",
          "exception": false,
          "start_time": "2023-02-16T22:13:00.490474",
          "status": "completed"
        },
        "tags": []
      },
      "outputs": [],
      "source": [
        "from sklearn.feature_extraction.text import TfidfTransformer\n",
        "from sklearn.pipeline import Pipeline\n",
        "\n",
        "pipe = Pipeline(\n",
        "    [\n",
        "        (\"bow\", CountVectorizer()),\n",
        "        (\"tfid\", TfidfTransformer()),\n",
        "        (\"model\", MultinomialNB()),\n",
        "    ]\n",
        ")\n",
        "\n",
        "pipe.fit(X_train, y_train)\n",
        "y_pred = pipe.predict(X_test)\n",
        "\n",
        "# calculate accuracy of class predictions\n",
        "print(\"=======Accuracy Score===========\")\n",
        "print(metrics.accuracy_score(y_test, y_pred))\n",
        "\n",
        "# print the confusion matrix\n",
        "print(\"=======Confision Matrix===========\")\n",
        "metrics.confusion_matrix(y_test, y_pred)"
      ]
    },
    {
      "cell_type": "code",
      "execution_count": null,
      "id": "Ane4ayRgaxDe",
      "metadata": {
        "id": "Ane4ayRgaxDe"
      },
      "outputs": [],
      "source": [
        "# Saving Model\n",
        "from joblib import dump, load\n",
        "\n",
        "# https://scikit-learn.org/stable/model_persistence.html\n",
        "dump(nb, \"nb_model.joblib\")"
      ]
    },
    {
      "attachments": {},
      "cell_type": "markdown",
      "id": "KurGTJ3H4RjU",
      "metadata": {
        "id": "KurGTJ3H4RjU"
      },
      "source": [
        "# Testing On Discord Dataset\n"
      ]
    },
    {
      "cell_type": "code",
      "execution_count": null,
      "id": "wpa711U64UV7",
      "metadata": {
        "id": "wpa711U64UV7"
      },
      "outputs": [],
      "source": [
        "X_test = discord_df.clean_msg\n",
        "y_test = discord_df.label_num\n",
        "# turn message into count vectorizer\n",
        "X_test_dtm = vect.transform(X_test)"
      ]
    },
    {
      "cell_type": "code",
      "execution_count": null,
      "id": "hPW8P-6g6DfP",
      "metadata": {
        "id": "hPW8P-6g6DfP"
      },
      "outputs": [],
      "source": [
        "y_pred = nb.predict(X_test_dtm)\n",
        "print(len(y_pred))\n",
        "print(\"=======Accuracy Score===========\")\n",
        "print(metrics.accuracy_score(y_test, y_pred))\n",
        "# print the confusion matrix\n",
        "print(\"=======Confision Matrix===========\")\n",
        "print(metrics.confusion_matrix(y_test, y_pred))"
      ]
    },
    {
      "attachments": {},
      "cell_type": "markdown",
      "id": "9e816488",
      "metadata": {
        "id": "9e816488",
        "papermill": {
          "duration": 0.019578,
          "end_time": "2023-02-16T22:13:00.655711",
          "exception": false,
          "start_time": "2023-02-16T22:13:00.636133",
          "status": "completed"
        },
        "tags": []
      },
      "source": [
        "# 📊 Comparing models\n",
        "\n",
        "We will compare multinomial Naive Bayes with [logistic regression](http://scikit-learn.org/stable/modules/linear_model.html#logistic-regression):\n",
        "\n",
        "> Logistic regression, despite its name, is a **linear model for classification** rather than regression. Logistic regression is also known in the literature as logit regression, maximum-entropy classification (MaxEnt) or the log-linear classifier. In this model, the probabilities describing the possible outcomes of a single trial are modeled using a logistic function."
      ]
    },
    {
      "cell_type": "code",
      "execution_count": null,
      "id": "87b874a9",
      "metadata": {
        "execution": {
          "iopub.execute_input": "2023-02-16T22:13:00.698211Z",
          "iopub.status.busy": "2023-02-16T22:13:00.697147Z",
          "iopub.status.idle": "2023-02-16T22:13:00.730363Z",
          "shell.execute_reply": "2023-02-16T22:13:00.728779Z"
        },
        "id": "87b874a9",
        "papermill": {
          "duration": 0.057407,
          "end_time": "2023-02-16T22:13:00.733054",
          "exception": false,
          "start_time": "2023-02-16T22:13:00.675647",
          "status": "completed"
        },
        "tags": []
      },
      "outputs": [],
      "source": [
        "# import an instantiate a logistic regression model\n",
        "from sklearn.linear_model import LogisticRegression\n",
        "\n",
        "logreg = LogisticRegression(solver=\"liblinear\")\n",
        "\n",
        "# train the model using X_train_dtm\n",
        "%time logreg.fit(X_train_dtm, y_train)"
      ]
    },
    {
      "cell_type": "code",
      "execution_count": null,
      "id": "011c8184",
      "metadata": {
        "execution": {
          "iopub.execute_input": "2023-02-16T22:13:00.776295Z",
          "iopub.status.busy": "2023-02-16T22:13:00.775220Z",
          "iopub.status.idle": "2023-02-16T22:13:00.784858Z",
          "shell.execute_reply": "2023-02-16T22:13:00.783801Z"
        },
        "id": "011c8184",
        "papermill": {
          "duration": 0.033897,
          "end_time": "2023-02-16T22:13:00.787306",
          "exception": false,
          "start_time": "2023-02-16T22:13:00.753409",
          "status": "completed"
        },
        "tags": []
      },
      "outputs": [],
      "source": [
        "# make class predictions for X_test_dtm\n",
        "y_pred_class = logreg.predict(X_test_dtm)\n",
        "\n",
        "# calculate predicted probabilities for X_test_dtm (well calibrated)\n",
        "y_pred_prob = logreg.predict_proba(X_test_dtm)[:, 1]\n",
        "y_pred_prob"
      ]
    },
    {
      "cell_type": "code",
      "execution_count": null,
      "id": "6fac6a4e",
      "metadata": {
        "execution": {
          "iopub.execute_input": "2023-02-16T22:13:00.829556Z",
          "iopub.status.busy": "2023-02-16T22:13:00.829146Z",
          "iopub.status.idle": "2023-02-16T22:13:00.840379Z",
          "shell.execute_reply": "2023-02-16T22:13:00.839026Z"
        },
        "id": "6fac6a4e",
        "papermill": {
          "duration": 0.035907,
          "end_time": "2023-02-16T22:13:00.843610",
          "exception": false,
          "start_time": "2023-02-16T22:13:00.807703",
          "status": "completed"
        },
        "tags": []
      },
      "outputs": [],
      "source": [
        "# calculate accuracy of class predictions\n",
        "print(\"=======Accuracy Score===========\")\n",
        "print(metrics.accuracy_score(y_test, y_pred_class))\n",
        "\n",
        "# print the confusion matrix\n",
        "print(\"=======Confision Matrix===========\")\n",
        "print(metrics.confusion_matrix(y_test, y_pred_class))\n",
        "\n",
        "# calculate AUC\n",
        "print(\"=======ROC AUC Score===========\")\n",
        "print(metrics.roc_auc_score(y_test, y_pred_prob))"
      ]
    }
  ],
  "metadata": {
    "colab": {
      "collapsed_sections": [
        "b1378e63",
        "f948a56c",
        "5889608f"
      ],
      "provenance": []
    },
    "kernelspec": {
      "display_name": "Python 3",
      "language": "python",
      "name": "python3"
    },
    "language_info": {
      "codemirror_mode": {
        "name": "ipython",
        "version": 3
      },
      "file_extension": ".py",
      "mimetype": "text/x-python",
      "name": "python",
      "nbconvert_exporter": "python",
      "pygments_lexer": "ipython3",
      "version": "3.10.6"
    },
    "papermill": {
      "default_parameters": {},
      "duration": 18.393171,
      "end_time": "2023-02-16T22:13:02.202180",
      "environment_variables": {},
      "exception": null,
      "input_path": "__notebook__.ipynb",
      "output_path": "__notebook__.ipynb",
      "parameters": {},
      "start_time": "2023-02-16T22:12:43.809009",
      "version": "2.3.4"
    }
  },
  "nbformat": 4,
  "nbformat_minor": 5
}
